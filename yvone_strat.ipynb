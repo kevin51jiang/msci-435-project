{
 "cells": [
  {
   "cell_type": "markdown",
   "metadata": {},
   "source": [
    "Imports"
   ]
  },
  {
   "cell_type": "code",
   "execution_count": 2,
   "metadata": {},
   "outputs": [],
   "source": [
    "import gurobipy as gb\n",
    "import pandas as pd\n",
    "import numpy as np\n",
    "import ast\n"
   ]
  },
  {
   "cell_type": "markdown",
   "metadata": {},
   "source": [
    "Column Generation from Pre-processed Data"
   ]
  },
  {
   "cell_type": "code",
   "execution_count": 3,
   "metadata": {},
   "outputs": [],
   "source": [
    "def indices_to_list(indices, length):\n",
    "    return [1 if i in indices else 0 for i in range(length+1)][1:]"
   ]
  },
  {
   "cell_type": "code",
   "execution_count": 5,
   "metadata": {},
   "outputs": [
    {
     "name": "stdout",
     "output_type": "stream",
     "text": [
      "<class 'pandas.core.frame.DataFrame'>\n",
      "RangeIndex: 16344393 entries, 0 to 16344392\n",
      "Data columns (total 5 columns):\n",
      " #   Column   Dtype \n",
      "---  ------   ----- \n",
      " 0   Day      int64 \n",
      " 1   Time     int64 \n",
      " 2   Members  object\n",
      " 3   Chairs   object\n",
      " 4   a        object\n",
      "dtypes: int64(2), object(3)\n",
      "memory usage: 623.5+ MB\n"
     ]
    }
   ],
   "source": [
    "pre_data = pd.read_csv('combinations.tsv',sep='\\t')\n",
    "pre_data['Chairs'] = pre_data['Chairs'].apply(ast.literal_eval)\n",
    "pre_data['Members'] = pre_data['Members'].apply(ast.literal_eval)\n",
    "pre_data['Chairs'] = pre_data['Chairs'].apply(lambda x: indices_to_list(x,10))\n",
    "pre_data['Members'] = pre_data['Members'].apply(lambda x: indices_to_list(x,30))\n",
    "pre_data['a'] = pre_data['Members'] + pre_data['Chairs']\n",
    "pre_data.info()"
   ]
  },
  {
   "cell_type": "code",
   "execution_count": 6,
   "metadata": {},
   "outputs": [],
   "source": [
    "data = pre_data[['Day','Time','a']]"
   ]
  },
  {
   "cell_type": "code",
   "execution_count": 7,
   "metadata": {},
   "outputs": [
    {
     "name": "stderr",
     "output_type": "stream",
     "text": [
      "/var/folders/tf/frrjsdzx0fj9r1dvbn0zqj5m0000gn/T/ipykernel_76353/107800561.py:1: SettingWithCopyWarning: \n",
      "A value is trying to be set on a copy of a slice from a DataFrame.\n",
      "Try using .loc[row_indexer,col_indexer] = value instead\n",
      "\n",
      "See the caveats in the documentation: https://pandas.pydata.org/pandas-docs/stable/user_guide/indexing.html#returning-a-view-versus-a-copy\n",
      "  data['h'] = data.groupby(['Day', 'Time'])['a'].cumcount() + 1\n"
     ]
    }
   ],
   "source": [
    "data['h'] = data.groupby(['Day', 'Time'])['a'].cumcount() + 1\n"
   ]
  },
  {
   "cell_type": "code",
   "execution_count": 10,
   "metadata": {},
   "outputs": [
    {
     "data": {
      "text/html": [
       "<div>\n",
       "<style scoped>\n",
       "    .dataframe tbody tr th:only-of-type {\n",
       "        vertical-align: middle;\n",
       "    }\n",
       "\n",
       "    .dataframe tbody tr th {\n",
       "        vertical-align: top;\n",
       "    }\n",
       "\n",
       "    .dataframe thead th {\n",
       "        text-align: right;\n",
       "    }\n",
       "</style>\n",
       "<table border=\"1\" class=\"dataframe\">\n",
       "  <thead>\n",
       "    <tr style=\"text-align: right;\">\n",
       "      <th></th>\n",
       "      <th>Day</th>\n",
       "      <th>Time</th>\n",
       "      <th>a</th>\n",
       "      <th>h</th>\n",
       "    </tr>\n",
       "  </thead>\n",
       "  <tbody>\n",
       "    <tr>\n",
       "      <th>0</th>\n",
       "      <td>1</td>\n",
       "      <td>1</td>\n",
       "      <td>[1, 1, 1, 0, 0, 0, 0, 0, 0, 0, 0, 0, 0, 0, 0, ...</td>\n",
       "      <td>1</td>\n",
       "    </tr>\n",
       "    <tr>\n",
       "      <th>1</th>\n",
       "      <td>1</td>\n",
       "      <td>1</td>\n",
       "      <td>[1, 1, 1, 0, 0, 0, 0, 0, 0, 0, 0, 0, 0, 0, 0, ...</td>\n",
       "      <td>2</td>\n",
       "    </tr>\n",
       "    <tr>\n",
       "      <th>2</th>\n",
       "      <td>1</td>\n",
       "      <td>1</td>\n",
       "      <td>[1, 1, 1, 0, 0, 0, 0, 0, 0, 0, 0, 0, 0, 0, 0, ...</td>\n",
       "      <td>3</td>\n",
       "    </tr>\n",
       "    <tr>\n",
       "      <th>3</th>\n",
       "      <td>1</td>\n",
       "      <td>1</td>\n",
       "      <td>[1, 1, 1, 0, 0, 0, 0, 0, 0, 0, 0, 0, 0, 0, 0, ...</td>\n",
       "      <td>4</td>\n",
       "    </tr>\n",
       "    <tr>\n",
       "      <th>4</th>\n",
       "      <td>1</td>\n",
       "      <td>1</td>\n",
       "      <td>[1, 1, 1, 0, 0, 0, 0, 0, 0, 0, 0, 0, 0, 0, 0, ...</td>\n",
       "      <td>5</td>\n",
       "    </tr>\n",
       "    <tr>\n",
       "      <th>...</th>\n",
       "      <td>...</td>\n",
       "      <td>...</td>\n",
       "      <td>...</td>\n",
       "      <td>...</td>\n",
       "    </tr>\n",
       "    <tr>\n",
       "      <th>16344388</th>\n",
       "      <td>5</td>\n",
       "      <td>34</td>\n",
       "      <td>[0, 0, 0, 0, 0, 0, 0, 0, 0, 0, 0, 0, 0, 0, 0, ...</td>\n",
       "      <td>149496</td>\n",
       "    </tr>\n",
       "    <tr>\n",
       "      <th>16344389</th>\n",
       "      <td>5</td>\n",
       "      <td>34</td>\n",
       "      <td>[0, 0, 0, 0, 0, 0, 0, 0, 0, 0, 0, 0, 0, 0, 0, ...</td>\n",
       "      <td>149497</td>\n",
       "    </tr>\n",
       "    <tr>\n",
       "      <th>16344390</th>\n",
       "      <td>5</td>\n",
       "      <td>34</td>\n",
       "      <td>[0, 0, 0, 0, 0, 0, 0, 0, 0, 0, 0, 0, 0, 0, 0, ...</td>\n",
       "      <td>149498</td>\n",
       "    </tr>\n",
       "    <tr>\n",
       "      <th>16344391</th>\n",
       "      <td>5</td>\n",
       "      <td>34</td>\n",
       "      <td>[0, 0, 0, 0, 0, 0, 0, 0, 0, 0, 0, 0, 0, 0, 0, ...</td>\n",
       "      <td>149499</td>\n",
       "    </tr>\n",
       "    <tr>\n",
       "      <th>16344392</th>\n",
       "      <td>5</td>\n",
       "      <td>34</td>\n",
       "      <td>[0, 0, 0, 0, 0, 0, 0, 0, 0, 0, 0, 0, 0, 0, 0, ...</td>\n",
       "      <td>149500</td>\n",
       "    </tr>\n",
       "  </tbody>\n",
       "</table>\n",
       "<p>16344393 rows × 4 columns</p>\n",
       "</div>"
      ],
      "text/plain": [
       "          Day  Time                                                  a       h\n",
       "0           1     1  [1, 1, 1, 0, 0, 0, 0, 0, 0, 0, 0, 0, 0, 0, 0, ...       1\n",
       "1           1     1  [1, 1, 1, 0, 0, 0, 0, 0, 0, 0, 0, 0, 0, 0, 0, ...       2\n",
       "2           1     1  [1, 1, 1, 0, 0, 0, 0, 0, 0, 0, 0, 0, 0, 0, 0, ...       3\n",
       "3           1     1  [1, 1, 1, 0, 0, 0, 0, 0, 0, 0, 0, 0, 0, 0, 0, ...       4\n",
       "4           1     1  [1, 1, 1, 0, 0, 0, 0, 0, 0, 0, 0, 0, 0, 0, 0, ...       5\n",
       "...       ...   ...                                                ...     ...\n",
       "16344388    5    34  [0, 0, 0, 0, 0, 0, 0, 0, 0, 0, 0, 0, 0, 0, 0, ...  149496\n",
       "16344389    5    34  [0, 0, 0, 0, 0, 0, 0, 0, 0, 0, 0, 0, 0, 0, 0, ...  149497\n",
       "16344390    5    34  [0, 0, 0, 0, 0, 0, 0, 0, 0, 0, 0, 0, 0, 0, 0, ...  149498\n",
       "16344391    5    34  [0, 0, 0, 0, 0, 0, 0, 0, 0, 0, 0, 0, 0, 0, 0, ...  149499\n",
       "16344392    5    34  [0, 0, 0, 0, 0, 0, 0, 0, 0, 0, 0, 0, 0, 0, 0, ...  149500\n",
       "\n",
       "[16344393 rows x 4 columns]"
      ]
     },
     "execution_count": 10,
     "metadata": {},
     "output_type": "execute_result"
    }
   ],
   "source": [
    "data"
   ]
  },
  {
   "cell_type": "markdown",
   "metadata": {},
   "source": [
    "The meat and potatoes of it all..."
   ]
  },
  {
   "cell_type": "code",
   "execution_count": 39,
   "metadata": {},
   "outputs": [],
   "source": [
    "def maximize_meetings(data):\n",
    "    model = gb.Model(\"Meeting Scheduling\")\n",
    "\n",
    "    # Decision variables\n",
    "    meetings = {}\n",
    "\n",
    "    # Indices\n",
    "    times = range(1,35)\n",
    "    days = range(1,6)\n",
    "    persons = range(0,40)\n",
    "\n",
    "    #Generated columns hidden with dict{ day : dict{ time : [col_1,col_2,...col_h]}}\n",
    "    cols = {\n",
    "        1 : {}, #here would contain days 1-34, followed by a list of list/vectors/cols\n",
    "        2 : {},\n",
    "        3 : {},\n",
    "        4 : {},\n",
    "        5 : {}\n",
    "    }\n",
    "    for d in days: # days 1-5\n",
    "        for t in times: # time slots 1-34\n",
    "            cols[d][t] = data[(data['Day'] == d) & (data['Time'] == t)]['a'].tolist()\n",
    "            for h in range(len(cols[d][t])): #iterate over possible columns\n",
    "                # Decision variables\n",
    "                meetings[(t, d, h)] = model.addVar(vtype=gb.GRB.BINARY, name=f\"x_{t}_{d}_{h}\")\n",
    "\n",
    "    for d in days: # days 1-5\n",
    "        for t in times: # time slots 1-34\n",
    "            num_cols = len(cols[d][t])\n",
    "\n",
    "            # Constraint 1: At most 4 meetings per time slot and day\n",
    "            model.addConstr(gb.quicksum(meetings[(t, d, h)] for h in range(num_cols)) <= 4)\n",
    "\n",
    "            # Constraint 2: Each participant attends at most one meeting per time slot and day\n",
    "            for p in persons:\n",
    "                model.addConstr(gb.quicksum(meetings[(t, d, h)] for h in range(num_cols)\n",
    "                                      if cols[t][d][h][p] == 1) <= 1)\n",
    "\n",
    "            # Constraint 1: At most 4 meetings per time slot and day\n",
    "            model.addConstr(gb.quicksum(meetings[(t, d, h)] for h in range(num_cols)) <= 4)\n",
    "\n",
    "            # Constraint 2: Each participant attends at most one meeting per time slot and day\n",
    "            for p in persons:\n",
    "                model.addConstr(gb.quicksum(meetings[(t, d, h)] for h in range(num_cols)\n",
    "                                      if cols[t][d][h][p] == 1) <= 1)\n",
    "                \n",
    "            # Constraint 3: No back-to-back meetings for participants\n",
    "            if t != 34:\n",
    "                for h in range(len(cols[d][t])):   \n",
    "                    for h2 in range(len(cols[d][t+1])): # this is crucial as h varies!!!\n",
    "                        for p in persons:\n",
    "                            #print(t, d, h, p)\n",
    "                            if cols[t][d][h][p] == 1 and cols[t+1][d][h2][p] == 1:\n",
    "                                model.addConstr(meetings[(t, d, h)] + meetings[(t+1, d, h2)] <= 1)\n",
    "\n",
    "\n",
    "    # Objective: Maximize number of meetings\n",
    "    model.setObjective(gb.quicksum(meetings[(t, d, h)] for t in times\n",
    "                                    for d in days for h in range(len(cols[t][d]))), gb.GRB.MAXIMIZE)\n",
    "\n",
    "    print('solving model...')\n",
    "    \n",
    "    # Solve the optimization problem\n",
    "    model.optimize()\n",
    "\n",
    "    # Print solution\n",
    "    if model.status == gb.GRB.OPTIMAL:\n",
    "        print(\"Optimal solution found!\")\n",
    "        for t in times:\n",
    "            for d in days:\n",
    "                for h in range(len(cols[t][d])):\n",
    "                    if meetings[(t, d, h)].x > 0.5:\n",
    "                        print(f\"Meeting at time slot {t}, day {d}, attendees: {cols[t][d][h]}\")\n",
    "    else:\n",
    "        print(\"No solution found.\")\n",
    "\n"
   ]
  },
  {
   "cell_type": "code",
   "execution_count": 40,
   "metadata": {},
   "outputs": [
    {
     "ename": "KeyError",
     "evalue": "6",
     "output_type": "error",
     "traceback": [
      "\u001b[0;31m---------------------------------------------------------------------------\u001b[0m",
      "\u001b[0;31mKeyError\u001b[0m                                  Traceback (most recent call last)",
      "Input \u001b[0;32mIn [40]\u001b[0m, in \u001b[0;36m<cell line: 1>\u001b[0;34m()\u001b[0m\n\u001b[0;32m----> 1\u001b[0m \u001b[43mmaximize_meetings\u001b[49m\u001b[43m(\u001b[49m\u001b[43mdata\u001b[49m\u001b[43m[\u001b[49m\u001b[43m(\u001b[49m\u001b[43mdata\u001b[49m\u001b[43m[\u001b[49m\u001b[38;5;124;43m'\u001b[39;49m\u001b[38;5;124;43mh\u001b[39;49m\u001b[38;5;124;43m'\u001b[39;49m\u001b[43m]\u001b[49m\u001b[43m \u001b[49m\u001b[38;5;241;43m<\u001b[39;49m\u001b[43m \u001b[49m\u001b[38;5;241;43m100\u001b[39;49m\u001b[43m)\u001b[49m\u001b[43m]\u001b[49m\u001b[43m)\u001b[49m\n",
      "Input \u001b[0;32mIn [39]\u001b[0m, in \u001b[0;36mmaximize_meetings\u001b[0;34m(data)\u001b[0m\n\u001b[1;32m     32\u001b[0m model\u001b[38;5;241m.\u001b[39maddConstr(gb\u001b[38;5;241m.\u001b[39mquicksum(meetings[(t, d, h)] \u001b[38;5;28;01mfor\u001b[39;00m h \u001b[38;5;129;01min\u001b[39;00m \u001b[38;5;28mrange\u001b[39m(num_cols)) \u001b[38;5;241m<\u001b[39m\u001b[38;5;241m=\u001b[39m \u001b[38;5;241m4\u001b[39m)\n\u001b[1;32m     34\u001b[0m \u001b[38;5;66;03m# Constraint 2: Each participant attends at most one meeting per time slot and day\u001b[39;00m\n\u001b[0;32m---> 35\u001b[0m \u001b[38;5;28;01mfor\u001b[39;00m p \u001b[38;5;129;01min\u001b[39;00m \u001b[38;5;28mrange\u001b[39m(\u001b[38;5;28mlen\u001b[39m(\u001b[43mcols\u001b[49m\u001b[43m[\u001b[49m\u001b[43mt\u001b[49m\u001b[43m]\u001b[49m[d][\u001b[38;5;241m0\u001b[39m])):\n\u001b[1;32m     36\u001b[0m     model\u001b[38;5;241m.\u001b[39maddConstr(gb\u001b[38;5;241m.\u001b[39mquicksum(meetings[(t, d, h)] \u001b[38;5;28;01mfor\u001b[39;00m h \u001b[38;5;129;01min\u001b[39;00m \u001b[38;5;28mrange\u001b[39m(num_cols)\n\u001b[1;32m     37\u001b[0m                           \u001b[38;5;28;01mif\u001b[39;00m cols[t][d][h][p] \u001b[38;5;241m==\u001b[39m \u001b[38;5;241m1\u001b[39m) \u001b[38;5;241m<\u001b[39m\u001b[38;5;241m=\u001b[39m \u001b[38;5;241m1\u001b[39m)\n\u001b[1;32m     39\u001b[0m \u001b[38;5;66;03m# Constraint 1: At most 4 meetings per time slot and day\u001b[39;00m\n",
      "\u001b[0;31mKeyError\u001b[0m: 6"
     ]
    }
   ],
   "source": [
    "maximize_meetings(data[(data['h'] < 100)])"
   ]
  },
  {
   "cell_type": "code",
   "execution_count": null,
   "metadata": {},
   "outputs": [],
   "source": []
  }
 ],
 "metadata": {
  "kernelspec": {
   "display_name": "base",
   "language": "python",
   "name": "python3"
  },
  "language_info": {
   "codemirror_mode": {
    "name": "ipython",
    "version": 3
   },
   "file_extension": ".py",
   "mimetype": "text/x-python",
   "name": "python",
   "nbconvert_exporter": "python",
   "pygments_lexer": "ipython3",
   "version": "3.9.12"
  }
 },
 "nbformat": 4,
 "nbformat_minor": 2
}
