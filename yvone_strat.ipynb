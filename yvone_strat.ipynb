{
 "cells": [
  {
   "cell_type": "markdown",
   "metadata": {},
   "source": [
    "Imports"
   ]
  },
  {
   "cell_type": "code",
   "execution_count": 1,
   "metadata": {},
   "outputs": [],
   "source": [
    "import gurobipy as gb\n",
    "import pandas as pd\n",
    "import numpy as np\n",
    "import ast\n"
   ]
  },
  {
   "cell_type": "markdown",
   "metadata": {},
   "source": [
    "Column Generation from Pre-processed Data"
   ]
  },
  {
   "cell_type": "code",
   "execution_count": 2,
   "metadata": {},
   "outputs": [],
   "source": [
    "def indices_to_list(indices, length):\n",
    "    return [1 if i in indices else 0 for i in range(length+1)][1:]"
   ]
  },
  {
   "cell_type": "code",
   "execution_count": 3,
   "metadata": {},
   "outputs": [
    {
     "name": "stdout",
     "output_type": "stream",
     "text": [
      "<class 'pandas.core.frame.DataFrame'>\n",
      "RangeIndex: 16344393 entries, 0 to 16344392\n",
      "Data columns (total 5 columns):\n",
      " #   Column   Dtype \n",
      "---  ------   ----- \n",
      " 0   Day      int64 \n",
      " 1   Time     int64 \n",
      " 2   Members  object\n",
      " 3   Chairs   object\n",
      " 4   a        object\n",
      "dtypes: int64(2), object(3)\n",
      "memory usage: 623.5+ MB\n"
     ]
    }
   ],
   "source": [
    "pre_data = pd.read_csv('combinations.tsv',sep='\\t')\n",
    "pre_data['Chairs'] = pre_data['Chairs'].apply(ast.literal_eval)\n",
    "pre_data['Members'] = pre_data['Members'].apply(ast.literal_eval)\n",
    "pre_data['Chairs'] = pre_data['Chairs'].apply(lambda x: indices_to_list(x,10))\n",
    "pre_data['Members'] = pre_data['Members'].apply(lambda x: indices_to_list(x,30))\n",
    "pre_data['a'] = pre_data['Members'] + pre_data['Chairs']\n",
    "pre_data.info()"
   ]
  },
  {
   "cell_type": "code",
   "execution_count": 4,
   "metadata": {},
   "outputs": [],
   "source": [
    "data = pre_data[['Day','Time','a']]"
   ]
  },
  {
   "cell_type": "code",
   "execution_count": 5,
   "metadata": {},
   "outputs": [
    {
     "name": "stderr",
     "output_type": "stream",
     "text": [
      "/var/folders/tf/frrjsdzx0fj9r1dvbn0zqj5m0000gn/T/ipykernel_93869/107800561.py:1: SettingWithCopyWarning: \n",
      "A value is trying to be set on a copy of a slice from a DataFrame.\n",
      "Try using .loc[row_indexer,col_indexer] = value instead\n",
      "\n",
      "See the caveats in the documentation: https://pandas.pydata.org/pandas-docs/stable/user_guide/indexing.html#returning-a-view-versus-a-copy\n",
      "  data['h'] = data.groupby(['Day', 'Time'])['a'].cumcount() + 1\n"
     ]
    }
   ],
   "source": [
    "data['h'] = data.groupby(['Day', 'Time'])['a'].cumcount() + 1\n"
   ]
  },
  {
   "cell_type": "code",
   "execution_count": 6,
   "metadata": {},
   "outputs": [
    {
     "name": "stdout",
     "output_type": "stream",
     "text": [
      "<class 'pandas.core.frame.DataFrame'>\n",
      "RangeIndex: 16344393 entries, 0 to 16344392\n",
      "Data columns (total 4 columns):\n",
      " #   Column  Dtype \n",
      "---  ------  ----- \n",
      " 0   Day     int64 \n",
      " 1   Time    int64 \n",
      " 2   a       object\n",
      " 3   h       int64 \n",
      "dtypes: int64(3), object(1)\n",
      "memory usage: 498.8+ MB\n"
     ]
    }
   ],
   "source": [
    "data.info()"
   ]
  },
  {
   "cell_type": "markdown",
   "metadata": {},
   "source": [
    "The meat and potatoes of it all..."
   ]
  },
  {
   "cell_type": "code",
   "execution_count": 7,
   "metadata": {},
   "outputs": [],
   "source": [
    "def maximize_meetings(data,filename='sol'):\n",
    "    model = gb.Model(\"Meeting Scheduling\")\n",
    "\n",
    "    # Decision variables\n",
    "    meetings = {}\n",
    "\n",
    "    # Indices\n",
    "    times = range(1,35)\n",
    "    days = range(1,6)\n",
    "    persons = range(0,40)\n",
    "\n",
    "    #Generated columns hidden with dict{ day : dict{ time : [col_1,col_2,...col_h]}}\n",
    "    cols = {\n",
    "        1 : {}, #here would contain times 1-34, followed by a list of list/vectors/cols\n",
    "        2 : {},\n",
    "        3 : {},\n",
    "        4 : {},\n",
    "        5 : {}\n",
    "    }\n",
    "    for d in days: # days 1-5\n",
    "        for t in times: # time slots 1-34\n",
    "            cols[d][t] = data[(data['Day'] == d) & (data['Time'] == t)]['a'].tolist()\n",
    "            for h in range(len(cols[d][t])): #iterate over possible columns\n",
    "                # Decision variables\n",
    "                meetings[(t, d, h)] = model.addVar(vtype=gb.GRB.BINARY, name=f\"x_{t}_{d}_{h}\")\n",
    "\n",
    "    for d in days: # days 1-5\n",
    "        for t in times: # time slots 1-34\n",
    "            num_cols = len(cols[d][t])\n",
    "\n",
    "            # Constraint 1: At most 4 meetings per time slot and day\n",
    "            model.addConstr(gb.quicksum(meetings[(t, d, h)] for h in range(num_cols)) <= 4)\n",
    "\n",
    "            # Constraint 2: Each participant attends at most one meeting per time slot and day\n",
    "            for p in persons:\n",
    "                model.addConstr(gb.quicksum(meetings[(t, d, h)] for h in range(num_cols)\n",
    "                                      if cols[d][t][h][p] == 1) <= 1)\n",
    "                \n",
    "            # Constraint 3: No back-to-back meetings for participants\n",
    "            if t != 34:\n",
    "                for h in range(len(cols[d][t])):   \n",
    "                    for h2 in range(len(cols[d][t+1])): # this is crucial as h varies!!!\n",
    "                        for p in persons:\n",
    "                            #print(t, d, h, p)\n",
    "                            if cols[d][t][h][p] == 1 and cols[d][t+1][h2][p] == 1:\n",
    "                                model.addConstr(meetings[(t, d, h)] + meetings[(t+1, d, h2)] <= 1)\n",
    "\n",
    "\n",
    "    # Objective: Maximize number of meetings\n",
    "    model.setObjective(gb.quicksum(meetings[(t, d, h)] for t in times\n",
    "                                    for d in days for h in range(len(cols[d][t]))), gb.GRB.MAXIMIZE)\n",
    "\n",
    "    print('solving model...')\n",
    "    \n",
    "    # Solve the optimization problem\n",
    "    model.optimize()\n",
    "\n",
    "    # Print solution\n",
    "    if model.status == gb.GRB.OPTIMAL:\n",
    "        with open(f'{filename}.tsv', 'w') as sol:\n",
    "            sol.truncate(0)\n",
    "            sol.write('D\\tT\\ta*\\n')\n",
    "            print(\"Optimal solution found!\")\n",
    "            for d in days:\n",
    "                for t in times:\n",
    "                    for h in range(len(cols[d][t])):\n",
    "                        if meetings[(t, d, h)].x > 0.5:\n",
    "                            sol.write(f\"{d}\\t{t}\\t{cols[d][t][h]}\\n\")\n",
    "    else:\n",
    "        print(\"No solution found.\")\n",
    "    return model\n"
   ]
  },
  {
   "cell_type": "code",
   "execution_count": 9,
   "metadata": {},
   "outputs": [
    {
     "name": "stdout",
     "output_type": "stream",
     "text": [
      "solving model...\n",
      "Gurobi Optimizer version 11.0.1 build v11.0.1rc0 (mac64[rosetta2] - Darwin 21.3.0 21D62)\n",
      "\n",
      "CPU model: Apple M1 Pro\n",
      "Thread count: 8 physical cores, 8 logical processors, using up to 8 threads\n",
      "\n",
      "Optimize a model with 50434522 rows, 77809 columns and 101623036 nonzeros\n",
      "Model fingerprint: 0x4228ca4d\n",
      "Variable types: 0 continuous, 77809 integer (77809 binary)\n",
      "Coefficient statistics:\n",
      "  Matrix range     [1e+00, 1e+00]\n",
      "  Objective range  [1e+00, 1e+00]\n",
      "  Bounds range     [1e+00, 1e+00]\n",
      "  RHS range        [1e+00, 4e+00]\n",
      "Found heuristic solution: objective 89.0000000\n",
      "Presolve removed 0 rows and 0 columns (presolve time = 6s) ...\n",
      "Presolve removed 3974 rows and 0 columns (presolve time = 12s) ...\n",
      "Presolve removed 3974 rows and 0 columns (presolve time = 18s) ...\n",
      "Presolve removed 3974 rows and 0 columns (presolve time = 22s) ...\n",
      "Presolve removed 3974 rows and 0 columns (presolve time = 28s) ...\n",
      "Presolve removed 3974 rows and 0 columns (presolve time = 30s) ...\n",
      "Presolve removed 3974 rows and 0 columns (presolve time = 37s) ...\n",
      "Presolve removed 3974 rows and 0 columns (presolve time = 48s) ...\n",
      "Presolve removed 17549979 rows and 0 columns (presolve time = 61s) ...\n",
      "Presolve removed 17549979 rows and 0 columns (presolve time = 68s) ...\n",
      "Presolve removed 17549979 rows and 0 columns (presolve time = 70s) ...\n",
      "Presolve removed 17549979 rows and 0 columns (presolve time = 77s) ...\n",
      "Presolve removed 17549979 rows and 0 columns (presolve time = 82s) ...\n",
      "Presolve removed 17549979 rows and 0 columns (presolve time = 89s) ...\n",
      "Presolve removed 17549986 rows and 0 columns (presolve time = 96s) ...\n",
      "Presolve removed 17549986 rows and 0 columns (presolve time = 100s) ...\n",
      "Presolve removed 17549986 rows and 0 columns (presolve time = 105s) ...\n",
      "Presolve removed 17549986 rows and 0 columns (presolve time = 110s) ...\n",
      "Presolve removed 49303445 rows and 0 columns (presolve time = 120s) ...\n",
      "Presolve removed 49303445 rows and 0 columns (presolve time = 123s) ...\n",
      "Presolve removed 49303445 rows and 0 columns (presolve time = 130s) ...\n",
      "Presolve removed 49303445 rows and 0 columns\n",
      "Presolve time: 130.24s\n",
      "Presolved: 1131077 rows, 77809 columns, 34315492 nonzeros\n",
      "Variable types: 0 continuous, 77809 integer (77809 binary)\n"
     ]
    }
   ],
   "source": [
    "m = maximize_meetings(data[data['h'] <= 500],'sol_lt_500')"
   ]
  },
  {
   "cell_type": "code",
   "execution_count": null,
   "metadata": {},
   "outputs": [],
   "source": [
    "m = m = maximize_meetings(data[data['h'] <= 1000],'sol_lt_1k')"
   ]
  }
 ],
 "metadata": {
  "kernelspec": {
   "display_name": "base",
   "language": "python",
   "name": "python3"
  },
  "language_info": {
   "codemirror_mode": {
    "name": "ipython",
    "version": 3
   },
   "file_extension": ".py",
   "mimetype": "text/x-python",
   "name": "python",
   "nbconvert_exporter": "python",
   "pygments_lexer": "ipython3",
   "version": "3.9.12"
  }
 },
 "nbformat": 4,
 "nbformat_minor": 2
}
