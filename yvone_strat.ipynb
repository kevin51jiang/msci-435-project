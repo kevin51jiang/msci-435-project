{
 "cells": [
  {
   "cell_type": "markdown",
   "metadata": {},
   "source": [
    "Imports"
   ]
  },
  {
   "cell_type": "code",
   "execution_count": 32,
   "metadata": {},
   "outputs": [],
   "source": [
    "import gurobipy as gb\n",
    "import pandas as pd\n",
    "import numpy as np\n",
    "import ast\n"
   ]
  },
  {
   "cell_type": "markdown",
   "metadata": {},
   "source": [
    "Column Generation from Pre-processed Data"
   ]
  },
  {
   "cell_type": "code",
   "execution_count": 33,
   "metadata": {},
   "outputs": [],
   "source": [
    "def indices_to_list(indices, length):\n",
    "    return [1 if i in indices else 0 for i in range(length+1)][1:]"
   ]
  },
  {
   "cell_type": "code",
   "execution_count": 37,
   "metadata": {},
   "outputs": [
    {
     "name": "stdout",
     "output_type": "stream",
     "text": [
      "<class 'pandas.core.frame.DataFrame'>\n",
      "RangeIndex: 16344393 entries, 0 to 16344392\n",
      "Data columns (total 5 columns):\n",
      " #   Column   Dtype \n",
      "---  ------   ----- \n",
      " 0   Day      int64 \n",
      " 1   Time     int64 \n",
      " 2   Members  object\n",
      " 3   Chairs   object\n",
      " 4   a        object\n",
      "dtypes: int64(2), object(3)\n",
      "memory usage: 623.5+ MB\n"
     ]
    }
   ],
   "source": [
    "pre_data = pd.read_csv('combinations.tsv',sep='\\t')\n",
    "pre_data['Chairs'] = pre_data['Chairs'].apply(ast.literal_eval)\n",
    "pre_data['Members'] = pre_data['Members'].apply(ast.literal_eval)\n",
    "pre_data['Chairs'] = pre_data['Chairs'].apply(lambda x: indices_to_list(x,10))\n",
    "pre_data['Members'] = pre_data['Members'].apply(lambda x: indices_to_list(x,30))\n",
    "pre_data['a'] = pre_data['Members'] + pre_data['Chairs']\n",
    "pre_data.info()"
   ]
  },
  {
   "cell_type": "code",
   "execution_count": 41,
   "metadata": {},
   "outputs": [],
   "source": [
    "data = pre_data[['Day','Time','a']]"
   ]
  },
  {
   "cell_type": "markdown",
   "metadata": {},
   "source": [
    "The meat and potatoes of it all..."
   ]
  },
  {
   "cell_type": "code",
   "execution_count": null,
   "metadata": {},
   "outputs": [],
   "source": []
  },
  {
   "cell_type": "code",
   "execution_count": null,
   "metadata": {},
   "outputs": [
    {
     "name": "stdout",
     "output_type": "stream",
     "text": [
      "Set parameter Username\n",
      "Academic license - for non-commercial use only - expires 2025-03-27\n"
     ]
    }
   ],
   "source": [
    "m = gb.Model('YvoneStrat')"
   ]
  },
  {
   "cell_type": "code",
   "execution_count": null,
   "metadata": {},
   "outputs": [],
   "source": []
  }
 ],
 "metadata": {
  "kernelspec": {
   "display_name": "base",
   "language": "python",
   "name": "python3"
  },
  "language_info": {
   "codemirror_mode": {
    "name": "ipython",
    "version": 3
   },
   "file_extension": ".py",
   "mimetype": "text/x-python",
   "name": "python",
   "nbconvert_exporter": "python",
   "pygments_lexer": "ipython3",
   "version": "3.9.12"
  }
 },
 "nbformat": 4,
 "nbformat_minor": 2
}
