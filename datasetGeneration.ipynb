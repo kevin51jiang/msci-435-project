{
 "cells": [
  {
   "cell_type": "code",
   "outputs": [],
   "source": [
    "# By default, available from 8AM-7:20PM ET\n",
    "\n",
    "# Unavailable time given the member\n",
    "# Chairs \n",
    "# C1 The University of British Columbia M/W 10 to 12\n",
    "# C2 University of Calgary T/Th 2 to 4\n",
    "# C3 National Research Council Canada M/W 1 o 3\n",
    "# C4 York University T/F 9 to 11\n",
    "# C5 University of California – San Diego Th 8 to 12\n",
    "# C6 Université de Sherbrooke W/F 10 to 12\n",
    "# C7 University of Victoria T/Th 1 to 3\n",
    "# C8 Université Laval Th 8 to 12\n",
    "# C9 Hydro-Québec T/F 10 to 12\n",
    "# C10 Canadian Food Inspection Agency M/F 11 to 2\n",
    "\n",
    "\n",
    "\n"
   ],
   "metadata": {
    "collapsed": false
   },
   "id": "20e82adad2c3e00d"
  },
  {
   "cell_type": "code",
   "outputs": [],
   "source": [
    "\n",
    "\n",
    "\n",
    "# Members \n",
    "# M1 University of Toronto T/Th 2 to 4\n",
    "# M2 Toronto Metropolitan University M/W 1 o 3\n",
    "# M3 University of Michigan T/F 9 to 11\n",
    "# M4 École Polytechnique de Montréal M/Th 11 to 1\n",
    "# M5 University of Guelph M/F 2 to 4\n",
    "# M6 University of Calgary M/F 3 to 5\n",
    "# M7 University of Prince Edward Island M 1 to 3\n",
    "# M8 University of Manitoba M/W 10 to 12\n",
    "# M9 National Research Council Th 8 to 12\n",
    "# M10 Royal Military College of Canada F 11 to 1\n",
    "# M11 Dalhousie University M/Th 11 to 1\n",
    "# M12 University of Windsor M/F 2 to 4\n",
    "# M13 Queen’s University M/F 3 to 5\n",
    "# M14 The University of Western Ontario W 12 to 5\n",
    "# M15 École Polytechnique de Montréal W/F 10 to 12\n",
    "# M16 Université du Québec en Abitibi-Témiscamingue T/Th 1 to 3\n",
    "# M17 Université du Québec à Trois Rivieres M/W 10 to 12\n",
    "# M18 FPrimeC Solutions Inc. T/F 10 to 12\n",
    "# M19 Institut national de la recherche scientifique Thu 10 to 3\n",
    "# M20 Université du Québec à Chicoutimi T/Th 3 to 5\n",
    "# M21 Université Catholique de Louvain M/T 1 to 3\n",
    "# M22 University of Northern British Columbia Th 8 to 12\n",
    "# M23 University of Saskatchewan M/T 10 to 12\n",
    "# M24 University of Alberta T/W 3 to 5\n",
    "# M25 University of Waterloo T/W 3 to 5\n",
    "# M26 University of Alberta M/W 10 to 12\n",
    "# M27 Brock University M/F 11 to 2\n",
    "# M28 University of Cyprus T/Th 1 to 3\n",
    "# M29 University of Manitoba F 12 to 4\n",
    "# M30 McMaster University T/Th 8 to 10\n"
   ],
   "metadata": {
    "collapsed": false
   },
   "id": "1f28857a8fd044fe"
  }
 ],
 "metadata": {
  "kernelspec": {
   "display_name": "Python 3",
   "language": "python",
   "name": "python3"
  },
  "language_info": {
   "codemirror_mode": {
    "name": "ipython",
    "version": 2
   },
   "file_extension": ".py",
   "mimetype": "text/x-python",
   "name": "python",
   "nbconvert_exporter": "python",
   "pygments_lexer": "ipython2",
   "version": "2.7.6"
  }
 },
 "nbformat": 4,
 "nbformat_minor": 5
}
