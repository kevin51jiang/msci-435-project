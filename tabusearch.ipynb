{
 "cells": [
  {
   "cell_type": "code",
   "execution_count": 1,
   "id": "initial_id",
   "metadata": {
    "collapsed": true,
    "ExecuteTime": {
     "end_time": "2024-04-02T03:57:40.016399Z",
     "start_time": "2024-04-02T03:57:39.562208Z"
    }
   },
   "outputs": [],
   "source": [
    "import numpy as np\n",
    "import random as rnd\n",
    "import matplotlib.pyplot as plt\n",
    "\n",
    "\n",
    "\n"
   ]
  },
  {
   "cell_type": "code",
   "outputs": [
    {
     "data": {
      "text/plain": "array([0., 0., 0., 0., 1., 0., 0., 0., 0., 0., 0., 0., 0., 1., 1., 0., 0.,\n       0., 0., 1., 0., 0., 0., 0., 0., 0., 0., 0., 0., 0., 0., 0., 0., 0.])"
     },
     "execution_count": 2,
     "metadata": {},
     "output_type": "execute_result"
    }
   ],
   "source": [
    "import numpy as np\n",
    "import json\n",
    "\n",
    "# Day, university, time period\n",
    "uni_avails = np.zeros((5, 40, 34))\n",
    "\n",
    "with open('./data/allAvailabilities.json') as f:\n",
    "    data = json.load(f)\n",
    "    for uni_incr, university_code in enumerate(data):\n",
    "        code = university_code\n",
    "        name = data[university_code]['university']\n",
    "\n",
    "        for ind, day in enumerate(['M', 'T', 'W', 'Th', 'F']):\n",
    "            uni_avails[ind][uni_incr] = data[university_code]['isAvailable'][day]\n",
    "\n",
    "uni_avails[0][0]"
   ],
   "metadata": {
    "collapsed": false,
    "ExecuteTime": {
     "end_time": "2024-04-02T03:57:40.445354Z",
     "start_time": "2024-04-02T03:57:40.436202Z"
    }
   },
   "id": "71c655eb1e4ee6de",
   "execution_count": 2
  },
  {
   "cell_type": "code",
   "outputs": [
    {
     "data": {
      "text/plain": "array([[0., 0., 0., ..., 0., 0., 0.],\n       [0., 0., 0., ..., 0., 0., 0.],\n       [0., 0., 0., ..., 0., 0., 0.],\n       ...,\n       [0., 0., 0., ..., 0., 0., 0.],\n       [0., 0., 0., ..., 0., 0., 0.],\n       [0., 0., 0., ..., 0., 0., 0.]])"
     },
     "execution_count": 3,
     "metadata": {},
     "output_type": "execute_result"
    }
   ],
   "source": [
    "# For tabu search, start with init solution\n",
    "\n",
    "initial_solution = np.zeros((40, 34))\n",
    "initial_solution\n"
   ],
   "metadata": {
    "collapsed": false,
    "ExecuteTime": {
     "end_time": "2024-04-02T03:57:43.285082Z",
     "start_time": "2024-04-02T03:57:43.278589Z"
    }
   },
   "id": "495addd7f9abb5b3",
   "execution_count": 3
  },
  {
   "cell_type": "code",
   "outputs": [
    {
     "data": {
      "text/plain": "(40, 34)"
     },
     "execution_count": 4,
     "metadata": {},
     "output_type": "execute_result"
    }
   ],
   "source": [
    "initial_solution.shape"
   ],
   "metadata": {
    "collapsed": false,
    "ExecuteTime": {
     "end_time": "2024-04-02T03:58:06.397862Z",
     "start_time": "2024-04-02T03:58:06.393300Z"
    }
   },
   "id": "ad70162c70e91677",
   "execution_count": 4
  },
  {
   "cell_type": "code",
   "outputs": [
    {
     "name": "stdout",
     "output_type": "stream",
     "text": [
      "neighborhood\n"
     ]
    },
    {
     "data": {
      "text/plain": "<Figure size 640x480 with 1 Axes>",
      "image/png": "[encoded data removed]"
     },
     "metadata": {},
     "output_type": "display_data"
    },
    {
     "data": {
      "text/plain": "<Figure size 640x480 with 1 Axes>",
      "image/png": "[encoded data removed]"
     },
     "metadata": {},
     "output_type": "display_data"
    }
   ],
   "source": [
    "# The neighborhood of the solution is the set of all solutions that can be obtained by changing one element of the solution\n",
    "# For the tabu search, we will consider the neighborhood of the solution as the set of all solutions that can be obtained by changing one element of the solution\n",
    "def get_neighborhood(solution: np.ndarray):\n",
    "    neighborhood = []\n",
    "    for i in range(solution.shape[0]):\n",
    "        for j in range(solution.shape[1]):\n",
    "            # Ensure the change won't make the solution invalid\n",
    "            if solution[i][j] == 0 and uni_avails[0][i][j] == 1:\n",
    "                # On flip, this would make the solution invalid\n",
    "                continue\n",
    "            new_solution = np.copy(solution)\n",
    "            new_solution[i][j] = 1 - new_solution[i][j]\n",
    "            neighborhood.append(new_solution)\n",
    "\n",
    "    return neighborhood\n",
    "\n",
    "\n",
    "print(\"neighborhood\")\n",
    "neighorhood_1 = get_neighborhood(initial_solution)\n",
    "plt.spy(neighorhood_1[0])\n",
    "plt.show()\n",
    "plt.spy(neighorhood_1[1])\n",
    "plt.show()"
   ],
   "metadata": {
    "collapsed": false,
    "ExecuteTime": {
     "end_time": "2024-04-02T04:06:08.332649Z",
     "start_time": "2024-04-02T04:06:08.014818Z"
    }
   },
   "id": "33a17ae556a47c46",
   "execution_count": 15
  },
  {
   "cell_type": "code",
   "outputs": [],
   "source": [
    "def get_score(solution: np.ndarray):\n",
    "    # What we want is \n",
    "    return np.sum(solution)"
   ],
   "metadata": {
    "collapsed": false
   },
   "id": "f46f86c45e7ba8fe"
  },
  {
   "cell_type": "code",
   "outputs": [
    {
     "name": "stdout",
     "output_type": "stream",
     "text": [
      "<class 'pandas.core.frame.DataFrame'>\n",
      "RangeIndex: 16344393 entries, 0 to 16344392\n",
      "Data columns (total 5 columns):\n",
      " #   Column   Dtype \n",
      "---  ------   ----- \n",
      " 0   Day      int64 \n",
      " 1   Time     int64 \n",
      " 2   Members  object\n",
      " 3   Chairs   object\n",
      " 4   a        object\n",
      "dtypes: int64(2), object(3)\n",
      "memory usage: 623.5+ MB\n"
     ]
    }
   ],
   "source": [
    "import pandas as pd\n",
    "import ast\n",
    "def indices_to_list(indices, length):\n",
    "    return [1 if i in indices else 0 for i in range(length+1)][1:]\n",
    "\n",
    "pre_data = pd.read_csv('combinations.tsv',sep='\\t')\n",
    "pre_data['Chairs'] = pre_data['Chairs'].apply(ast.literal_eval)\n",
    "pre_data['Members'] = pre_data['Members'].apply(ast.literal_eval)\n",
    "pre_data['Chairs'] = pre_data['Chairs'].apply(lambda x: indices_to_list(x,10))\n",
    "pre_data['Members'] = pre_data['Members'].apply(lambda x: indices_to_list(x,30))\n",
    "pre_data['a'] = pre_data['Members'] + pre_data['Chairs']\n",
    "pre_data.info()"
   ],
   "metadata": {
    "collapsed": false,
    "ExecuteTime": {
     "end_time": "2024-04-02T04:32:18.554342Z",
     "start_time": "2024-04-02T04:23:07.466129Z"
    }
   },
   "id": "bfbc5917b1d47015",
   "execution_count": 16
  },
  {
   "cell_type": "code",
   "outputs": [
    {
     "data": {
      "text/plain": "          Day  Time                                                  a\n0           1     1  [1, 1, 1, 0, 0, 0, 0, 0, 0, 0, 0, 0, 0, 0, 0, ...\n1           1     1  [1, 1, 1, 0, 0, 0, 0, 0, 0, 0, 0, 0, 0, 0, 0, ...\n2           1     1  [1, 1, 1, 0, 0, 0, 0, 0, 0, 0, 0, 0, 0, 0, 0, ...\n3           1     1  [1, 1, 1, 0, 0, 0, 0, 0, 0, 0, 0, 0, 0, 0, 0, ...\n4           1     1  [1, 1, 1, 0, 0, 0, 0, 0, 0, 0, 0, 0, 0, 0, 0, ...\n...       ...   ...                                                ...\n16344388    5    34  [0, 0, 0, 0, 0, 0, 0, 0, 0, 0, 0, 0, 0, 0, 0, ...\n16344389    5    34  [0, 0, 0, 0, 0, 0, 0, 0, 0, 0, 0, 0, 0, 0, 0, ...\n16344390    5    34  [0, 0, 0, 0, 0, 0, 0, 0, 0, 0, 0, 0, 0, 0, 0, ...\n16344391    5    34  [0, 0, 0, 0, 0, 0, 0, 0, 0, 0, 0, 0, 0, 0, 0, ...\n16344392    5    34  [0, 0, 0, 0, 0, 0, 0, 0, 0, 0, 0, 0, 0, 0, 0, ...\n\n[16344393 rows x 3 columns]",
      "text/html": "<div>\n<style scoped>\n    .dataframe tbody tr th:only-of-type {\n        vertical-align: middle;\n    }\n\n    .dataframe tbody tr th {\n        vertical-align: top;\n    }\n\n    .dataframe thead th {\n        text-align: right;\n    }\n</style>\n<table border=\"1\" class=\"dataframe\">\n  <thead>\n    <tr style=\"text-align: right;\">\n      <th></th>\n      <th>Day</th>\n      <th>Time</th>\n      <th>a</th>\n    </tr>\n  </thead>\n  <tbody>\n    <tr>\n      <th>0</th>\n      <td>1</td>\n      <td>1</td>\n      <td>[1, 1, 1, 0, 0, 0, 0, 0, 0, 0, 0, 0, 0, 0, 0, ...</td>\n    </tr>\n    <tr>\n      <th>1</th>\n      <td>1</td>\n      <td>1</td>\n      <td>[1, 1, 1, 0, 0, 0, 0, 0, 0, 0, 0, 0, 0, 0, 0, ...</td>\n    </tr>\n    <tr>\n      <th>2</th>\n      <td>1</td>\n      <td>1</td>\n      <td>[1, 1, 1, 0, 0, 0, 0, 0, 0, 0, 0, 0, 0, 0, 0, ...</td>\n    </tr>\n    <tr>\n      <th>3</th>\n      <td>1</td>\n      <td>1</td>\n      <td>[1, 1, 1, 0, 0, 0, 0, 0, 0, 0, 0, 0, 0, 0, 0, ...</td>\n    </tr>\n    <tr>\n      <th>4</th>\n      <td>1</td>\n      <td>1</td>\n      <td>[1, 1, 1, 0, 0, 0, 0, 0, 0, 0, 0, 0, 0, 0, 0, ...</td>\n    </tr>\n    <tr>\n      <th>...</th>\n      <td>...</td>\n      <td>...</td>\n      <td>...</td>\n    </tr>\n    <tr>\n      <th>16344388</th>\n      <td>5</td>\n      <td>34</td>\n      <td>[0, 0, 0, 0, 0, 0, 0, 0, 0, 0, 0, 0, 0, 0, 0, ...</td>\n    </tr>\n    <tr>\n      <th>16344389</th>\n      <td>5</td>\n      <td>34</td>\n      <td>[0, 0, 0, 0, 0, 0, 0, 0, 0, 0, 0, 0, 0, 0, 0, ...</td>\n    </tr>\n    <tr>\n      <th>16344390</th>\n      <td>5</td>\n      <td>34</td>\n      <td>[0, 0, 0, 0, 0, 0, 0, 0, 0, 0, 0, 0, 0, 0, 0, ...</td>\n    </tr>\n    <tr>\n      <th>16344391</th>\n      <td>5</td>\n      <td>34</td>\n      <td>[0, 0, 0, 0, 0, 0, 0, 0, 0, 0, 0, 0, 0, 0, 0, ...</td>\n    </tr>\n    <tr>\n      <th>16344392</th>\n      <td>5</td>\n      <td>34</td>\n      <td>[0, 0, 0, 0, 0, 0, 0, 0, 0, 0, 0, 0, 0, 0, 0, ...</td>\n    </tr>\n  </tbody>\n</table>\n<p>16344393 rows × 3 columns</p>\n</div>"
     },
     "execution_count": 18,
     "metadata": {},
     "output_type": "execute_result"
    }
   ],
   "source": [],
   "metadata": {
    "collapsed": false,
    "ExecuteTime": {
     "end_time": "2024-04-02T04:33:03.613220Z",
     "start_time": "2024-04-02T04:33:03.070789Z"
    }
   },
   "id": "a516323a419e09d9",
   "execution_count": 18
  },
  {
   "cell_type": "code",
   "outputs": [],
   "source": [
    "its = 0\n",
    "\n",
    "max_its = 1000\n",
    "\n",
    "\n",
    "while its < max_its:\n",
    "    its += 1\n",
    "    print(its)\n",
    "    # Get the neighborhood of the current solution\n",
    "    neighborhood = get_neighborhood(initial_solution)\n",
    "    # Evaluate the neighborhood\n",
    "    \n",
    "    \n",
    "    \n",
    "    # Choose the best solution in the neighborhood\n",
    "    best_solution = None\n",
    "    best_score = 0\n",
    "    for solution in neighborhood:\n",
    "        score = np.sum(solution)\n",
    "        if score > best_score:\n",
    "            best_score = score\n",
    "            best_solution = solution\n",
    "\n",
    "    # If the best solution is better than the current solution, update the current solution\n",
    "    if best_score > np.sum(initial_solution):\n",
    "        initial_solution = best_solution\n",
    "\n",
    "    print(np.sum(initial_solution))"
   ],
   "metadata": {
    "collapsed": false
   },
   "id": "89cbf63037b257f7"
  }
 ],
 "metadata": {
  "kernelspec": {
   "display_name": "Python 3",
   "language": "python",
   "name": "python3"
  },
  "language_info": {
   "codemirror_mode": {
    "name": "ipython",
    "version": 2
   },
   "file_extension": ".py",
   "mimetype": "text/x-python",
   "name": "python",
   "nbconvert_exporter": "python",
   "pygments_lexer": "ipython2",
   "version": "2.7.6"
  }
 },
 "nbformat": 4,
 "nbformat_minor": 5
}
