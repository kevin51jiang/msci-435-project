{
 "cells": [
  {
   "cell_type": "code",
   "execution_count": 34,
   "metadata": {},
   "outputs": [],
   "source": [
    "import pandas as pd\n",
    "import matplotlib.pyplot as plt\n",
    "import numpy as np\n",
    "import ast"
   ]
  },
  {
   "cell_type": "code",
   "execution_count": 102,
   "metadata": {},
   "outputs": [],
   "source": [
    "schedule = pd.read_csv('sol_lt_500.tsv',delimiter='\\t')\n",
    "schedule['a*'] = schedule['a*'].apply(ast.literal_eval)\n",
    "schedule['x'] = schedule['a*'].apply(lambda x: sum(x))\n"
   ]
  },
  {
   "cell_type": "code",
   "execution_count": 100,
   "metadata": {},
   "outputs": [],
   "source": []
  },
  {
   "cell_type": "code",
   "execution_count": 105,
   "metadata": {},
   "outputs": [
    {
     "data": {
      "text/plain": [
       "84"
      ]
     },
     "execution_count": 105,
     "metadata": {},
     "output_type": "execute_result"
    }
   ],
   "source": [
    "sum(schedule['x'] > 3)"
   ]
  },
  {
   "cell_type": "code",
   "execution_count": 78,
   "metadata": {},
   "outputs": [
    {
     "data": {
      "text/plain": [
       "4"
      ]
     },
     "execution_count": 78,
     "metadata": {},
     "output_type": "execute_result"
    }
   ],
   "source": [
    "int(schedule[(schedule['D']==1)&(schedule['T']==1)]['test'])"
   ]
  },
  {
   "cell_type": "code",
   "execution_count": 115,
   "metadata": {},
   "outputs": [],
   "source": [
    "def plot_schedule_map(schedule):\n",
    "\n",
    "    plt.figure(figsize=(11, 5))\n",
    "    plt.title(f\"Scheduled meetings\")\n",
    "    \n",
    "    days = range(1,6)\n",
    "    times = range(1,35)\n",
    "    # Create a plot for each course\n",
    "    for d in days:\n",
    "        for t in times:\n",
    "            meetings = sum((schedule['D']==1)&(schedule['T']==1)& (schedule['x']==4))\n",
    "            if meetings == 1:\n",
    "                plt.plot(t, d, 'bs', markersize=10)\n",
    "            else:\n",
    "                plt.plot(t, d, 'rs', markersize=10)\n",
    "    plt.yticks(days, ['Monday', 'Tuesday', 'Wednesday', 'Thursday', 'Friday'])\n",
    "    plt.xticks(times)\n",
    "    plt.gca().invert_yaxis()\n",
    "    plt.xlabel('Hour')\n",
    "    plt.ylabel('Day of Week')\n",
    "    plt.grid(True)\n",
    "    plt.tight_layout()\n",
    "\n",
    "    plt.show()"
   ]
  },
  {
   "cell_type": "code",
   "execution_count": 116,
   "metadata": {},
   "outputs": [
    {
     "data": {
      "image/png": "[encoded data removed]",
      "text/plain": [
       "<Figure size 792x360 with 1 Axes>"
      ]
     },
     "metadata": {
      "needs_background": "light"
     },
     "output_type": "display_data"
    }
   ],
   "source": [
    "plot_schedule_map(schedule=schedule)"
   ]
  }
 ],
 "metadata": {
  "kernelspec": {
   "display_name": "base",
   "language": "python",
   "name": "python3"
  },
  "language_info": {
   "codemirror_mode": {
    "name": "ipython",
    "version": 3
   },
   "file_extension": ".py",
   "mimetype": "text/x-python",
   "name": "python",
   "nbconvert_exporter": "python",
   "pygments_lexer": "ipython3",
   "version": "3.9.12"
  }
 },
 "nbformat": 4,
 "nbformat_minor": 2
}
