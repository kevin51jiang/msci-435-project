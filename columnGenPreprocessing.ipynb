{
 "cells": [
  {
   "cell_type": "code",
   "execution_count": 1,
   "id": "initial_id",
   "metadata": {
    "ExecuteTime": {
     "end_time": "2024-03-02T22:17:58.101951Z",
     "start_time": "2024-03-02T22:17:58.093229Z"
    },
    "collapsed": true
   },
   "outputs": [],
   "source": [
    "import pandas as pd\n",
    "\n",
    "maxMeetings = pd.read_csv('./data/maxMeetings.csv')"
   ]
  },
  {
   "cell_type": "code",
   "execution_count": 2,
   "id": "146c030489ae94f9",
   "metadata": {
    "ExecuteTime": {
     "end_time": "2024-03-02T22:22:40.003177Z",
     "start_time": "2024-03-02T22:22:39.994328Z"
    },
    "collapsed": false
   },
   "outputs": [],
   "source": [
    "import numpy as np\n",
    "\n",
    "\n",
    "class University:\n",
    "    def __init__(self, code, name, availabilities: np.ndarray[(5, 34)]):\n",
    "        self.code = code\n",
    "        self.name = name\n",
    "        self.availabilities = availabilities\n",
    "\n",
    "    def is_available(self, day, time):\n",
    "        return self.availabilities[day, time]\n",
    "\n",
    "    def get_schedule(self, day):\n",
    "        return self.availabilities[day]\n",
    "\n",
    "    def get_all_schedules(self):\n",
    "        return self.availabilities\n",
    "\n",
    "    def __str__(self):\n",
    "        return f'{self.code} - {self.name}'\n",
    "\n",
    "    def __repr__(self):\n",
    "        return f'{self.code} - {self.name}'\n",
    "\n",
    "    def __eq__(self, other):\n",
    "        return self.code == other.code\n",
    "\n",
    "    def __hash__(self):\n",
    "        return hash(self.code)\n",
    "\n",
    "\n"
   ]
  },
  {
   "cell_type": "code",
   "execution_count": 3,
   "id": "c36703e6519e24fc",
   "metadata": {
    "ExecuteTime": {
     "end_time": "2024-03-02T22:22:40.323424Z",
     "start_time": "2024-03-02T22:22:40.308788Z"
    },
    "collapsed": false
   },
   "outputs": [
    {
     "data": {
      "text/plain": [
       "[M1 - University of Toronto,\n",
       " M2 - Toronto Metropolitan University,\n",
       " M3 - University of Michigan,\n",
       " M4 - École Polytechnique de Montréal,\n",
       " M5 - University of Guelph,\n",
       " M6 - University of Calgary,\n",
       " M7 - University of Prince Edward Island,\n",
       " M8 - University of Manitoba,\n",
       " M9 - National Research Council,\n",
       " M10 - Royal Military College of Canada,\n",
       " M11 - Dalhousie University,\n",
       " M12 - University of Windsor,\n",
       " M13 - Queen’s University,\n",
       " M14 - The University of Western Ontario,\n",
       " M15 - École Polytechnique de Montréal,\n",
       " M16 - Université du Québec en Abitibi-Témiscamingue,\n",
       " M17 - Université du Québec à Trois Rivieres,\n",
       " M18 - FPrimeC Solutions Inc.,\n",
       " M19 - Institut national de la recherche scientifique,\n",
       " M20 - Université du Québec à Chicoutimi,\n",
       " M21 - Université Catholique de Louvain,\n",
       " M22 - University of Northern British Columbia,\n",
       " M23 - University of Saskatchewan,\n",
       " M24 - University of Alberta,\n",
       " M25 - University of Waterloo,\n",
       " M26 - University of Alberta,\n",
       " M27 - Brock University,\n",
       " M28 - University of Cyprus,\n",
       " M29 - University of Manitoba,\n",
       " M30 - McMaster University,\n",
       " C1 - The University of British Columbia,\n",
       " C2 - University of Calgary,\n",
       " C3 - National Research Council Canada,\n",
       " C4 - York University,\n",
       " C5 - University of California – San Diego,\n",
       " C6 - Université de Sherbrooke,\n",
       " C7 - University of Victoria,\n",
       " C8 - Université Laval,\n",
       " C9 - Hydro-Québec,\n",
       " C10 - Canadian Food Inspection Agency]"
      ]
     },
     "execution_count": 3,
     "metadata": {},
     "output_type": "execute_result"
    }
   ],
   "source": [
    "# Create a list of University objects\n",
    "import json\n",
    "\n",
    "universities = []\n",
    "with open('./data/allAvailabilities.json') as f:\n",
    "    data = json.load(f)\n",
    "    for university_code in data:\n",
    "        code = university_code\n",
    "        name = data[university_code]['university']\n",
    "\n",
    "        availabilities = np.array([data[university_code]['isAvailable'][day] for day in ['M', 'T', 'W', 'Th', 'F']])\n",
    "        universities.append(University(code, name, availabilities))\n",
    "\n",
    "universities"
   ]
  },
  {
   "cell_type": "code",
   "execution_count": 7,
   "id": "316fa42a",
   "metadata": {},
   "outputs": [],
   "source": [
    "import itertools\n",
    "import numpy as np\n",
    "\n",
    "# Assuming 40 participants, 5 days, and 34 time slots\n",
    "availabilities = np.zeros((40, 5, 34), dtype=int)  # Initialize with integer type\n",
    "\n",
    "# Loop through each university and assign its schedule to the matrix\n",
    "for i in range(40):\n",
    "    schedule = universities[i].get_all_schedules()\n",
    "    # Reshape the schedule array to fit into the 3D matrix\n",
    "    schedule_reshaped = np.reshape(schedule, (5, 34)).astype(int)  # Convert boolean to integer\n",
    "    # Assign the reshaped schedule to the corresponding position in the matrix\n",
    "    availabilities[i] = schedule_reshaped\n",
    "\n",
    "# Open a file to write the combinations\n",
    "with open('combinations.txt', 'w') as file:\n",
    "    # Iterate through each time slot\n",
    "    for day in range(availabilities.shape[1]):\n",
    "        # Iterate through each day\n",
    "        for time_slot in range(availabilities.shape[2]):\n",
    "            # Get the availabilities for the current time slot and day\n",
    "            participants_availabilities = availabilities[:, day, time_slot]\n",
    "\n",
    "            # Find indices of free participants (where value is 0)\n",
    "            free_participants_indices_0_29 = np.where(participants_availabilities[0:30] == 0)[0]\n",
    "            free_participants_indices_30_39 = np.where(participants_availabilities[30:40] == 0)[0] + 30\n",
    "\n",
    "            # Find all combinations of 4 free participants from digits 0 to 29\n",
    "            free_participants_combinations_0_29 = itertools.combinations(free_participants_indices_0_29, 4)\n",
    "\n",
    "            # Find all combinations of 1 free participant from digits 30 to 39\n",
    "            free_participants_combinations_30_39 = itertools.combinations(free_participants_indices_30_39, 1)\n",
    "\n",
    "            # Combine combinations from both groups\n",
    "            combined_combinations = itertools.product(free_participants_combinations_0_29, free_participants_combinations_30_39)\n",
    "\n",
    "            # Write combinations to the file\n",
    "            for combination in combined_combinations:\n",
    "                file.write(f\"Day: {day+1} | Time: {time_slot+1} | Attendee: {combination[0]} {combination[1]}\\n\")\n"
   ]
  },
  {
   "cell_type": "code",
   "execution_count": null,
   "id": "5db1621682f3d030",
   "metadata": {
    "ExecuteTime": {
     "end_time": "2024-03-02T22:27:23.541427Z",
     "start_time": "2024-03-02T22:27:23.526704Z"
    },
    "collapsed": false
   },
   "outputs": [],
   "source": [
    "# 28 (duplicate removed) members X 34 time slots \n",
    "dedup_schedules = np.unique(schedule, axis=0)\n",
    "print(dedup_schedules.shape)\n",
    "dedup_schedules\n"
   ]
  },
  {
   "cell_type": "code",
   "execution_count": null,
   "id": "95f2b7d3cc7914f2",
   "metadata": {
    "ExecuteTime": {
     "end_time": "2024-03-02T22:28:36.631107Z",
     "start_time": "2024-03-02T22:28:36.425356Z"
    },
    "collapsed": false
   },
   "outputs": [],
   "source": [
    "# Plot the number of ones in each row\n",
    "import matplotlib.pyplot as plt\n",
    "\n",
    "plt.hist(40 - np.sum(dedup_schedules, axis=1), bins=34)\n",
    "plt.xlabel('Number of available times')\n",
    "plt.ylabel('Number of unique configurations')\n",
    "plt.title('Number of available times for each unique configuration')\n",
    "plt.show()\n"
   ]
  },
  {
   "cell_type": "code",
   "execution_count": null,
   "id": "6b9c015ae4e46c94",
   "metadata": {
    "ExecuteTime": {
     "end_time": "2024-03-02T22:55:38.116245Z",
     "start_time": "2024-03-02T22:55:38.109925Z"
    },
    "collapsed": false
   },
   "outputs": [],
   "source": [
    "# Find the number of ones in each unique configuration\n",
    "num_ones = np.unique(34 - np.sum(dedup_schedules, axis=1), axis=0)\n",
    "num_ones"
   ]
  }
 ],
 "metadata": {
  "kernelspec": {
   "display_name": "Python 3",
   "language": "python",
   "name": "python3"
  },
  "language_info": {
   "codemirror_mode": {
    "name": "ipython",
    "version": 3
   },
   "file_extension": ".py",
   "mimetype": "text/x-python",
   "name": "python",
   "nbconvert_exporter": "python",
   "pygments_lexer": "ipython3",
   "version": "3.9.6"
  }
 },
 "nbformat": 4,
 "nbformat_minor": 5
}
