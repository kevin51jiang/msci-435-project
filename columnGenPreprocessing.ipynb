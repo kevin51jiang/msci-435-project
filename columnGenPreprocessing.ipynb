{
 "cells": [
  {
   "cell_type": "code",
   "execution_count": 3,
   "id": "initial_id",
   "metadata": {
    "collapsed": true,
    "ExecuteTime": {
     "end_time": "2024-03-02T22:17:58.101951Z",
     "start_time": "2024-03-02T22:17:58.093229Z"
    }
   },
   "outputs": [],
   "source": [
    "import pandas as pd\n",
    "\n",
    "maxMeetings = pd.read_csv('./data/maxMeetings.csv')"
   ]
  },
  {
   "cell_type": "code",
   "outputs": [],
   "source": [
    "import numpy as np\n",
    "\n",
    "\n",
    "class University:\n",
    "    def __init__(self, code, name, availabilities: np.ndarray[(5, 34)]):\n",
    "        self.code = code\n",
    "        self.name = name\n",
    "        self.availabilities = availabilities\n",
    "\n",
    "    def is_available(self, day, time):\n",
    "        return self.availabilities[day, time]\n",
    "\n",
    "    def get_schedule(self, day):\n",
    "        return self.availabilities[day]\n",
    "\n",
    "    def get_all_schedules(self):\n",
    "        return self.availabilities\n",
    "\n",
    "    def __str__(self):\n",
    "        return f'{self.code} - {self.name}'\n",
    "\n",
    "    def __repr__(self):\n",
    "        return f'{self.code} - {self.name}'\n",
    "\n",
    "    def __eq__(self, other):\n",
    "        return self.code == other.code\n",
    "\n",
    "    def __hash__(self):\n",
    "        return hash(self.code)\n",
    "\n",
    "\n"
   ],
   "metadata": {
    "collapsed": false,
    "ExecuteTime": {
     "end_time": "2024-03-02T22:22:40.003177Z",
     "start_time": "2024-03-02T22:22:39.994328Z"
    }
   },
   "id": "146c030489ae94f9",
   "execution_count": 12
  },
  {
   "cell_type": "code",
   "outputs": [
    {
     "data": {
      "text/plain": "[M1 - University of Toronto,\n M2 - Toronto Metropolitan University,\n M3 - University of Michigan,\n M4 - École Polytechnique de Montréal,\n M5 - University of Guelph,\n M6 - University of Calgary,\n M7 - University of Prince Edward Island,\n M8 - University of Manitoba,\n M9 - National Research Council,\n M10 - Royal Military College of Canada,\n M11 - Dalhousie University,\n M12 - University of Windsor,\n M13 - Queen’s University,\n M14 - The University of Western Ontario,\n M15 - École Polytechnique de Montréal,\n M16 - Université du Québec en Abitibi-Témiscamingue,\n M17 - Université du Québec à Trois Rivieres,\n M18 - FPrimeC Solutions Inc.,\n M19 - Institut national de la recherche scientifique,\n M20 - Université du Québec à Chicoutimi,\n M21 - Université Catholique de Louvain,\n M22 - University of Northern British Columbia,\n M23 - University of Saskatchewan,\n M24 - University of Alberta,\n M25 - University of Waterloo,\n M26 - University of Alberta,\n M27 - Brock University,\n M28 - University of Cyprus,\n M29 - University of Manitoba,\n M30 - McMaster University,\n C1 - The University of British Columbia,\n C2 - University of Calgary,\n C3 - National Research Council Canada,\n C4 - York University,\n C5 - University of California – San Diego,\n C6 - Université de Sherbrooke,\n C7 - University of Victoria,\n C8 - Université Laval,\n C9 - Hydro-Québec,\n C10 - Canadian Food Inspection Agency]"
     },
     "execution_count": 13,
     "metadata": {},
     "output_type": "execute_result"
    }
   ],
   "source": [
    "# Create a list of University objects\n",
    "import json\n",
    "\n",
    "universities = []\n",
    "with open('./data/allAvailabilities.json') as f:\n",
    "    data = json.load(f)\n",
    "    for university_code in data:\n",
    "        code = university_code\n",
    "        name = data[university_code]['university']\n",
    "\n",
    "        availabilities = np.array([data[university_code]['isAvailable'][day] for day in ['M', 'T', 'W', 'Th', 'F']])\n",
    "        universities.append(University(code, name, availabilities))\n",
    "\n",
    "universities"
   ],
   "metadata": {
    "collapsed": false,
    "ExecuteTime": {
     "end_time": "2024-03-02T22:22:40.323424Z",
     "start_time": "2024-03-02T22:22:40.308788Z"
    }
   },
   "id": "c36703e6519e24fc",
   "execution_count": 13
  },
  {
   "cell_type": "code",
   "outputs": [
    {
     "data": {
      "text/plain": "array([[False, False, False, False,  True, False, False, False, False,\n        False, False, False, False,  True,  True, False, False, False,\n        False,  True, False, False, False, False, False, False, False,\n        False, False, False, False, False, False, False],\n       [False, False, False, False,  True, False, False, False, False,\n        False, False, False, False,  True,  True, False, False, False,\n         True,  True,  True,  True,  True,  True, False, False, False,\n        False, False, False, False, False, False, False],\n       [False, False, False, False,  True, False, False, False, False,\n        False, False, False, False,  True,  True, False, False, False,\n        False,  True, False, False, False, False, False, False, False,\n        False, False, False, False, False, False, False],\n       [False, False, False, False,  True, False, False, False, False,\n        False, False, False, False,  True,  True, False, False, False,\n         True,  True,  True,  True,  True,  True, False, False, False,\n        False, False, False, False, False, False, False],\n       [False, False, False, False,  True, False, False, False, False,\n        False, False, False, False,  True,  True, False, False, False,\n        False,  True, False, False, False, False, False, False, False,\n        False, False, False, False, False, False, False]])"
     },
     "execution_count": 14,
     "metadata": {},
     "output_type": "execute_result"
    }
   ],
   "source": [
    "universities[0].get_all_schedules()"
   ],
   "metadata": {
    "collapsed": false,
    "ExecuteTime": {
     "end_time": "2024-03-02T22:22:41.118141Z",
     "start_time": "2024-03-02T22:22:41.110817Z"
    }
   },
   "id": "a9f244b8f06c12da",
   "execution_count": 14
  },
  {
   "cell_type": "code",
   "outputs": [
    {
     "data": {
      "text/plain": "               0           1           2           3           4           5   \\\ncount  200.000000  200.000000  200.000000  200.000000  200.000000  200.000000   \nmean     0.050000    0.125000    0.050000    0.070000    0.755000    0.170000   \nstd      0.218492    0.331549    0.218492    0.255787    0.431166    0.376575   \nmin      0.000000    0.000000    0.000000    0.000000    0.000000    0.000000   \n25%      0.000000    0.000000    0.000000    0.000000    1.000000    0.000000   \n50%      0.000000    0.000000    0.000000    0.000000    1.000000    0.000000   \n75%      0.000000    0.000000    0.000000    0.000000    1.000000    0.000000   \nmax      1.000000    1.000000    1.000000    1.000000    1.000000    1.000000   \n\n               6           7           8           9   ...          24  \\\ncount  200.000000  200.000000  200.000000  200.000000  ...  200.000000   \nmean     0.115000    0.265000    0.215000    0.115000  ...    0.035000   \nstd      0.319823    0.442441    0.411853    0.319823  ...    0.184241   \nmin      0.000000    0.000000    0.000000    0.000000  ...    0.000000   \n25%      0.000000    0.000000    0.000000    0.000000  ...    0.000000   \n50%      0.000000    0.000000    0.000000    0.000000  ...    0.000000   \n75%      0.000000    1.000000    0.000000    0.000000  ...    0.000000   \nmax      1.000000    1.000000    1.000000    1.000000  ...    1.000000   \n\n               25          26     27     28     29     30          31  \\\ncount  200.000000  200.000000  200.0  200.0  200.0  200.0  200.000000   \nmean     0.060000    0.035000    0.0    0.0    0.0    0.0    0.025000   \nstd      0.238083    0.184241    0.0    0.0    0.0    0.0    0.156517   \nmin      0.000000    0.000000    0.0    0.0    0.0    0.0    0.000000   \n25%      0.000000    0.000000    0.0    0.0    0.0    0.0    0.000000   \n50%      0.000000    0.000000    0.0    0.0    0.0    0.0    0.000000   \n75%      0.000000    0.000000    0.0    0.0    0.0    0.0    0.000000   \nmax      1.000000    1.000000    0.0    0.0    0.0    0.0    1.000000   \n\n               32          33  \ncount  200.000000  200.000000  \nmean     0.025000    0.010000  \nstd      0.156517    0.099748  \nmin      0.000000    0.000000  \n25%      0.000000    0.000000  \n50%      0.000000    0.000000  \n75%      0.000000    0.000000  \nmax      1.000000    1.000000  \n\n[8 rows x 34 columns]",
      "text/html": "<div>\n<style scoped>\n    .dataframe tbody tr th:only-of-type {\n        vertical-align: middle;\n    }\n\n    .dataframe tbody tr th {\n        vertical-align: top;\n    }\n\n    .dataframe thead th {\n        text-align: right;\n    }\n</style>\n<table border=\"1\" class=\"dataframe\">\n  <thead>\n    <tr style=\"text-align: right;\">\n      <th></th>\n      <th>0</th>\n      <th>1</th>\n      <th>2</th>\n      <th>3</th>\n      <th>4</th>\n      <th>5</th>\n      <th>6</th>\n      <th>7</th>\n      <th>8</th>\n      <th>9</th>\n      <th>...</th>\n      <th>24</th>\n      <th>25</th>\n      <th>26</th>\n      <th>27</th>\n      <th>28</th>\n      <th>29</th>\n      <th>30</th>\n      <th>31</th>\n      <th>32</th>\n      <th>33</th>\n    </tr>\n  </thead>\n  <tbody>\n    <tr>\n      <th>count</th>\n      <td>200.000000</td>\n      <td>200.000000</td>\n      <td>200.000000</td>\n      <td>200.000000</td>\n      <td>200.000000</td>\n      <td>200.000000</td>\n      <td>200.000000</td>\n      <td>200.000000</td>\n      <td>200.000000</td>\n      <td>200.000000</td>\n      <td>...</td>\n      <td>200.000000</td>\n      <td>200.000000</td>\n      <td>200.000000</td>\n      <td>200.0</td>\n      <td>200.0</td>\n      <td>200.0</td>\n      <td>200.0</td>\n      <td>200.000000</td>\n      <td>200.000000</td>\n      <td>200.000000</td>\n    </tr>\n    <tr>\n      <th>mean</th>\n      <td>0.050000</td>\n      <td>0.125000</td>\n      <td>0.050000</td>\n      <td>0.070000</td>\n      <td>0.755000</td>\n      <td>0.170000</td>\n      <td>0.115000</td>\n      <td>0.265000</td>\n      <td>0.215000</td>\n      <td>0.115000</td>\n      <td>...</td>\n      <td>0.035000</td>\n      <td>0.060000</td>\n      <td>0.035000</td>\n      <td>0.0</td>\n      <td>0.0</td>\n      <td>0.0</td>\n      <td>0.0</td>\n      <td>0.025000</td>\n      <td>0.025000</td>\n      <td>0.010000</td>\n    </tr>\n    <tr>\n      <th>std</th>\n      <td>0.218492</td>\n      <td>0.331549</td>\n      <td>0.218492</td>\n      <td>0.255787</td>\n      <td>0.431166</td>\n      <td>0.376575</td>\n      <td>0.319823</td>\n      <td>0.442441</td>\n      <td>0.411853</td>\n      <td>0.319823</td>\n      <td>...</td>\n      <td>0.184241</td>\n      <td>0.238083</td>\n      <td>0.184241</td>\n      <td>0.0</td>\n      <td>0.0</td>\n      <td>0.0</td>\n      <td>0.0</td>\n      <td>0.156517</td>\n      <td>0.156517</td>\n      <td>0.099748</td>\n    </tr>\n    <tr>\n      <th>min</th>\n      <td>0.000000</td>\n      <td>0.000000</td>\n      <td>0.000000</td>\n      <td>0.000000</td>\n      <td>0.000000</td>\n      <td>0.000000</td>\n      <td>0.000000</td>\n      <td>0.000000</td>\n      <td>0.000000</td>\n      <td>0.000000</td>\n      <td>...</td>\n      <td>0.000000</td>\n      <td>0.000000</td>\n      <td>0.000000</td>\n      <td>0.0</td>\n      <td>0.0</td>\n      <td>0.0</td>\n      <td>0.0</td>\n      <td>0.000000</td>\n      <td>0.000000</td>\n      <td>0.000000</td>\n    </tr>\n    <tr>\n      <th>25%</th>\n      <td>0.000000</td>\n      <td>0.000000</td>\n      <td>0.000000</td>\n      <td>0.000000</td>\n      <td>1.000000</td>\n      <td>0.000000</td>\n      <td>0.000000</td>\n      <td>0.000000</td>\n      <td>0.000000</td>\n      <td>0.000000</td>\n      <td>...</td>\n      <td>0.000000</td>\n      <td>0.000000</td>\n      <td>0.000000</td>\n      <td>0.0</td>\n      <td>0.0</td>\n      <td>0.0</td>\n      <td>0.0</td>\n      <td>0.000000</td>\n      <td>0.000000</td>\n      <td>0.000000</td>\n    </tr>\n    <tr>\n      <th>50%</th>\n      <td>0.000000</td>\n      <td>0.000000</td>\n      <td>0.000000</td>\n      <td>0.000000</td>\n      <td>1.000000</td>\n      <td>0.000000</td>\n      <td>0.000000</td>\n      <td>0.000000</td>\n      <td>0.000000</td>\n      <td>0.000000</td>\n      <td>...</td>\n      <td>0.000000</td>\n      <td>0.000000</td>\n      <td>0.000000</td>\n      <td>0.0</td>\n      <td>0.0</td>\n      <td>0.0</td>\n      <td>0.0</td>\n      <td>0.000000</td>\n      <td>0.000000</td>\n      <td>0.000000</td>\n    </tr>\n    <tr>\n      <th>75%</th>\n      <td>0.000000</td>\n      <td>0.000000</td>\n      <td>0.000000</td>\n      <td>0.000000</td>\n      <td>1.000000</td>\n      <td>0.000000</td>\n      <td>0.000000</td>\n      <td>1.000000</td>\n      <td>0.000000</td>\n      <td>0.000000</td>\n      <td>...</td>\n      <td>0.000000</td>\n      <td>0.000000</td>\n      <td>0.000000</td>\n      <td>0.0</td>\n      <td>0.0</td>\n      <td>0.0</td>\n      <td>0.0</td>\n      <td>0.000000</td>\n      <td>0.000000</td>\n      <td>0.000000</td>\n    </tr>\n    <tr>\n      <th>max</th>\n      <td>1.000000</td>\n      <td>1.000000</td>\n      <td>1.000000</td>\n      <td>1.000000</td>\n      <td>1.000000</td>\n      <td>1.000000</td>\n      <td>1.000000</td>\n      <td>1.000000</td>\n      <td>1.000000</td>\n      <td>1.000000</td>\n      <td>...</td>\n      <td>1.000000</td>\n      <td>1.000000</td>\n      <td>1.000000</td>\n      <td>0.0</td>\n      <td>0.0</td>\n      <td>0.0</td>\n      <td>0.0</td>\n      <td>1.000000</td>\n      <td>1.000000</td>\n      <td>1.000000</td>\n    </tr>\n  </tbody>\n</table>\n<p>8 rows × 34 columns</p>\n</div>"
     },
     "execution_count": 22,
     "metadata": {},
     "output_type": "execute_result"
    }
   ],
   "source": [
    "# Find the schedule of each day for all universities, add to a numpy array\n",
    "\n",
    "import numpy as np\n",
    "\n",
    "# Create a numpy array to store the schedule of each day for all universities\n",
    "schedule = np.zeros((40 * 5, 34))\n",
    "\n",
    "# Iterate through each university\n",
    "for i, university in enumerate(universities):\n",
    "    schedule[i * 5: (i + 1) * 5, :] = university.get_all_schedules()\n",
    "\n",
    "pd.DataFrame(schedule).describe()\n",
    "\n"
   ],
   "metadata": {
    "collapsed": false,
    "ExecuteTime": {
     "end_time": "2024-03-02T22:27:03.585707Z",
     "start_time": "2024-03-02T22:27:03.497306Z"
    }
   },
   "id": "3aefb0ecf4a63f23",
   "execution_count": 22
  },
  {
   "cell_type": "code",
   "outputs": [
    {
     "name": "stdout",
     "output_type": "stream",
     "text": [
      "(28, 34)\n"
     ]
    },
    {
     "data": {
      "text/plain": "array([[0., 0., 0., 0., 0., 0., 0., 0., 0., 0., 0., 0., 0., 0., 0., 0.,\n        0., 0., 0., 0., 0., 0., 0., 0., 0., 1., 0., 0., 0., 0., 0., 0.,\n        0., 0.],\n       [0., 0., 0., 0., 0., 0., 0., 0., 0., 0., 0., 0., 0., 0., 0., 0.,\n        0., 0., 0., 0., 0., 0., 1., 0., 0., 0., 0., 0., 0., 0., 0., 1.,\n        1., 0.],\n       [0., 0., 0., 0., 0., 0., 0., 0., 0., 0., 0., 0., 0., 0., 0., 0.,\n        0., 0., 0., 0., 0., 0., 1., 0., 0., 0., 0., 0., 0., 0., 0., 1.,\n        1., 1.],\n       [0., 0., 0., 0., 0., 0., 0., 1., 0., 0., 0., 0., 0., 0., 0., 0.,\n        1., 1., 0., 0., 0., 0., 1., 0., 0., 0., 0., 0., 0., 0., 0., 0.,\n        0., 0.],\n       [0., 0., 0., 0., 0., 0., 0., 1., 0., 0., 0., 0., 0., 0., 0., 0.,\n        1., 1., 1., 1., 1., 1., 1., 1., 0., 0., 0., 0., 0., 0., 0., 0.,\n        0., 0.],\n       [0., 0., 0., 0., 0., 0., 0., 1., 0., 0., 0., 0., 1., 1., 1., 1.,\n        1., 1., 0., 0., 0., 0., 1., 0., 0., 0., 0., 0., 0., 0., 0., 0.,\n        0., 0.],\n       [0., 0., 0., 0., 0., 0., 0., 1., 1., 0., 0., 0., 0., 1., 0., 0.,\n        0., 0., 0., 0., 0., 0., 0., 0., 0., 0., 0., 0., 0., 0., 0., 0.,\n        0., 0.],\n       [0., 0., 0., 0., 0., 0., 0., 1., 1., 0., 0., 0., 0., 1., 0., 1.,\n        1., 1., 1., 1., 1., 0., 0., 0., 0., 0., 0., 0., 0., 0., 0., 0.,\n        0., 0.],\n       [0., 0., 0., 0., 0., 0., 0., 1., 1., 0., 0., 0., 1., 1., 1., 1.,\n        1., 1., 0., 0., 0., 0., 0., 0., 0., 0., 0., 0., 0., 0., 0., 0.,\n        0., 0.],\n       [0., 0., 0., 0., 1., 0., 0., 0., 0., 0., 0., 0., 0., 1., 1., 0.,\n        0., 0., 0., 1., 0., 0., 0., 0., 0., 0., 0., 0., 0., 0., 0., 0.,\n        0., 0.],\n       [0., 0., 0., 0., 1., 0., 0., 0., 0., 0., 0., 0., 0., 1., 1., 0.,\n        0., 0., 0., 1., 0., 1., 1., 1., 1., 1., 1., 0., 0., 0., 0., 0.,\n        0., 0.],\n       [0., 0., 0., 0., 1., 0., 0., 0., 0., 0., 0., 0., 0., 1., 1., 0.,\n        0., 0., 1., 1., 1., 1., 1., 1., 0., 0., 0., 0., 0., 0., 0., 0.,\n        0., 0.],\n       [0., 0., 0., 0., 1., 0., 0., 0., 0., 0., 0., 0., 0., 1., 1., 1.,\n        1., 1., 1., 1., 1., 0., 0., 0., 0., 0., 0., 0., 0., 0., 0., 0.,\n        0., 0.],\n       [0., 0., 0., 0., 1., 0., 0., 0., 0., 0., 0., 0., 1., 1., 1., 1.,\n        1., 1., 1., 1., 1., 1., 1., 1., 1., 1., 1., 0., 0., 0., 0., 0.,\n        0., 0.],\n       [0., 0., 0., 0., 1., 0., 0., 0., 0., 1., 1., 1., 1., 1., 1., 0.,\n        0., 0., 0., 1., 0., 0., 0., 0., 0., 0., 0., 0., 0., 0., 0., 0.,\n        0., 0.],\n       [0., 0., 0., 0., 1., 0., 0., 0., 0., 1., 1., 1., 1., 1., 1., 1.,\n        1., 1., 0., 1., 0., 0., 0., 0., 0., 0., 0., 0., 0., 0., 0., 0.,\n        0., 0.],\n       [0., 0., 0., 0., 1., 0., 1., 1., 1., 1., 1., 1., 0., 1., 1., 0.,\n        0., 0., 0., 1., 0., 0., 0., 0., 0., 0., 0., 0., 0., 0., 0., 0.,\n        0., 0.],\n       [0., 0., 0., 0., 1., 0., 1., 1., 1., 1., 1., 1., 1., 1., 1., 1.,\n        1., 1., 1., 1., 1., 0., 0., 0., 0., 0., 0., 0., 0., 0., 0., 0.,\n        0., 0.],\n       [0., 0., 0., 0., 1., 1., 0., 0., 0., 0., 1., 0., 0., 0., 0., 0.,\n        0., 0., 0., 0., 0., 0., 0., 0., 0., 0., 0., 0., 0., 0., 0., 0.,\n        0., 0.],\n       [0., 0., 0., 0., 1., 1., 1., 1., 1., 1., 1., 1., 0., 0., 0., 0.,\n        0., 0., 0., 0., 0., 0., 0., 0., 0., 0., 0., 0., 0., 0., 0., 0.,\n        0., 0.],\n       [0., 0., 0., 1., 1., 1., 1., 1., 1., 0., 0., 0., 0., 1., 1., 0.,\n        0., 0., 0., 1., 0., 0., 0., 0., 0., 0., 0., 0., 0., 0., 0., 0.,\n        0., 0.],\n       [0., 1., 0., 0., 0., 0., 0., 0., 0., 0., 1., 1., 0., 0., 0., 0.,\n        1., 0., 0., 0., 0., 0., 0., 0., 0., 0., 0., 0., 0., 0., 0., 0.,\n        0., 0.],\n       [0., 1., 0., 0., 0., 0., 0., 0., 0., 1., 1., 1., 1., 1., 1., 1.,\n        1., 1., 1., 1., 1., 0., 0., 0., 0., 0., 0., 0., 0., 0., 0., 0.,\n        0., 0.],\n       [0., 1., 0., 1., 1., 1., 1., 1., 1., 0., 1., 1., 0., 0., 0., 0.,\n        1., 0., 0., 0., 0., 0., 0., 0., 0., 0., 0., 0., 0., 0., 0., 0.,\n        0., 0.],\n       [1., 1., 1., 0., 1., 1., 0., 0., 0., 0., 1., 0., 0., 0., 0., 0.,\n        0., 0., 0., 0., 0., 0., 0., 0., 0., 0., 0., 0., 0., 0., 0., 0.,\n        0., 0.],\n       [1., 1., 1., 1., 1., 1., 0., 0., 0., 0., 0., 0., 0., 1., 1., 0.,\n        0., 0., 0., 1., 0., 0., 0., 0., 0., 0., 0., 0., 0., 0., 0., 0.,\n        0., 0.],\n       [1., 1., 1., 1., 1., 1., 0., 1., 1., 0., 0., 0., 0., 1., 0., 0.,\n        0., 0., 0., 0., 0., 0., 0., 0., 0., 0., 0., 0., 0., 0., 0., 0.,\n        0., 0.],\n       [1., 1., 1., 1., 1., 1., 1., 1., 1., 1., 1., 1., 0., 1., 1., 0.,\n        0., 0., 0., 1., 0., 0., 0., 0., 0., 0., 0., 0., 0., 0., 0., 0.,\n        0., 0.]])"
     },
     "execution_count": 23,
     "metadata": {},
     "output_type": "execute_result"
    }
   ],
   "source": [
    "dedup_schedules = np.unique(schedule, axis=0)\n",
    "print(dedup_schedules.shape)\n",
    "dedup_schedules\n"
   ],
   "metadata": {
    "collapsed": false,
    "ExecuteTime": {
     "end_time": "2024-03-02T22:27:23.541427Z",
     "start_time": "2024-03-02T22:27:23.526704Z"
    }
   },
   "id": "5db1621682f3d030",
   "execution_count": 23
  },
  {
   "cell_type": "code",
   "outputs": [
    {
     "data": {
      "text/plain": "<Figure size 640x480 with 1 Axes>",
      "image/png": "[encoded data removed]"
     },
     "metadata": {},
     "output_type": "display_data"
    }
   ],
   "source": [
    "# Plot the number of ones in each row\n",
    "import matplotlib.pyplot as plt\n",
    "\n",
    "plt.hist(40 - np.sum(dedup_schedules, axis=1), bins=34)\n",
    "plt.xlabel('Number of available times')\n",
    "plt.ylabel('Number of unique configurations')\n",
    "plt.title('Number of available times for each unique configuration')\n",
    "plt.show()\n"
   ],
   "metadata": {
    "collapsed": false,
    "ExecuteTime": {
     "end_time": "2024-03-02T22:28:36.631107Z",
     "start_time": "2024-03-02T22:28:36.425356Z"
    }
   },
   "id": "95f2b7d3cc7914f2",
   "execution_count": 27
  },
  {
   "cell_type": "code",
   "outputs": [
    {
     "data": {
      "text/plain": "array([18., 19., 21., 23., 24., 25., 26., 28., 30., 31., 33.])"
     },
     "execution_count": 32,
     "metadata": {},
     "output_type": "execute_result"
    }
   ],
   "source": [
    "# Find the number of ones in each unique configuration\n",
    "num_ones = np.unique(34 - np.sum(dedup_schedules, axis=1), axis=0)\n",
    "num_ones"
   ],
   "metadata": {
    "collapsed": false,
    "ExecuteTime": {
     "end_time": "2024-03-02T22:55:38.116245Z",
     "start_time": "2024-03-02T22:55:38.109925Z"
    }
   },
   "id": "6b9c015ae4e46c94",
   "execution_count": 32
  },
  {
   "cell_type": "code",
   "outputs": [],
   "source": [],
   "metadata": {
    "collapsed": false
   },
   "id": "70cc8264cd90724f"
  }
 ],
 "metadata": {
  "kernelspec": {
   "display_name": "Python 3",
   "language": "python",
   "name": "python3"
  },
  "language_info": {
   "codemirror_mode": {
    "name": "ipython",
    "version": 2
   },
   "file_extension": ".py",
   "mimetype": "text/x-python",
   "name": "python",
   "nbconvert_exporter": "python",
   "pygments_lexer": "ipython2",
   "version": "2.7.6"
  }
 },
 "nbformat": 4,
 "nbformat_minor": 5
}
