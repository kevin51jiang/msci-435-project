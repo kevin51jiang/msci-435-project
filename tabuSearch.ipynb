{
 "cells": [
  {
   "cell_type": "code",
   "execution_count": 81,
   "id": "initial_id",
   "metadata": {
    "collapsed": true,
    "ExecuteTime": {
     "end_time": "2024-04-08T06:27:55.133177Z",
     "start_time": "2024-04-08T06:27:55.130101Z"
    }
   },
   "outputs": [],
   "source": [
    "import pandas as pd\n",
    "\n"
   ]
  },
  {
   "cell_type": "code",
   "execution_count": 82,
   "id": "146c030489ae94f9",
   "metadata": {
    "collapsed": false,
    "ExecuteTime": {
     "end_time": "2024-04-08T06:27:55.156433Z",
     "start_time": "2024-04-08T06:27:55.149338Z"
    }
   },
   "outputs": [],
   "source": [
    "import numpy as np\n",
    "\n",
    "\n",
    "class University:\n",
    "    def __init__(self, code, name, availabilities: np.ndarray):\n",
    "        self.code = code\n",
    "        self.name = name\n",
    "        self.availabilities = availabilities\n",
    "\n",
    "    def is_available(self, day, time):\n",
    "        return self.availabilities[day, time]\n",
    "\n",
    "    def get_schedule(self, day):\n",
    "        return self.availabilities[day]\n",
    "\n",
    "    def get_all_schedules(self):\n",
    "        return self.availabilities\n",
    "\n",
    "    def __str__(self):\n",
    "        return f'{self.code} - {self.name}'\n",
    "\n",
    "    def __repr__(self):\n",
    "        return f'{self.code} - {self.name}'\n",
    "\n",
    "    def __eq__(self, other):\n",
    "        return self.code == other.code\n",
    "\n",
    "    def __hash__(self):\n",
    "        return hash(self.code)\n",
    "\n",
    "\n"
   ]
  },
  {
   "cell_type": "code",
   "execution_count": 83,
   "id": "c36703e6519e24fc",
   "metadata": {
    "collapsed": false,
    "ExecuteTime": {
     "end_time": "2024-04-08T06:27:55.202141Z",
     "start_time": "2024-04-08T06:27:55.189301Z"
    }
   },
   "outputs": [
    {
     "data": {
      "text/plain": "[M1 - University of Toronto,\n M2 - Toronto Metropolitan University,\n M3 - University of Michigan,\n M4 - École Polytechnique de Montréal,\n M5 - University of Guelph,\n M6 - University of Calgary,\n M7 - University of Prince Edward Island,\n M8 - University of Manitoba,\n M9 - National Research Council,\n M10 - Royal Military College of Canada,\n M11 - Dalhousie University,\n M12 - University of Windsor,\n M13 - Queen’s University,\n M14 - The University of Western Ontario,\n M15 - École Polytechnique de Montréal,\n M16 - Université du Québec en Abitibi-Témiscamingue,\n M17 - Université du Québec à Trois Rivieres,\n M18 - FPrimeC Solutions Inc.,\n M19 - Institut national de la recherche scientifique,\n M20 - Université du Québec à Chicoutimi,\n M21 - Université Catholique de Louvain,\n M22 - University of Northern British Columbia,\n M23 - University of Saskatchewan,\n M24 - University of Alberta,\n M25 - University of Waterloo,\n M26 - University of Alberta,\n M27 - Brock University,\n M28 - University of Cyprus,\n M29 - University of Manitoba,\n M30 - McMaster University,\n C1 - The University of British Columbia,\n C2 - University of Calgary,\n C3 - National Research Council Canada,\n C4 - York University,\n C5 - University of California – San Diego,\n C6 - Université de Sherbrooke,\n C7 - University of Victoria,\n C8 - Université Laval,\n C9 - Hydro-Québec,\n C10 - Canadian Food Inspection Agency]"
     },
     "execution_count": 83,
     "metadata": {},
     "output_type": "execute_result"
    }
   ],
   "source": [
    "# Create a list of University objects\n",
    "import json\n",
    "\n",
    "universities = []\n",
    "with open('./data/allAvailabilities.json') as f:\n",
    "    data = json.load(f)\n",
    "    for university_code in data:\n",
    "        code = university_code\n",
    "        name = data[university_code]['university']\n",
    "\n",
    "        availabilities = np.array([data[university_code]['isAvailable'][day] for day in ['M', 'T', 'W', 'Th', 'F']])\n",
    "        universities.append(University(code, name, availabilities))\n",
    "\n",
    "universities"
   ]
  },
  {
   "cell_type": "code",
   "execution_count": 84,
   "id": "9e936309",
   "metadata": {
    "ExecuteTime": {
     "end_time": "2024-04-08T06:27:55.208921Z",
     "start_time": "2024-04-08T06:27:55.204466Z"
    }
   },
   "outputs": [],
   "source": [
    "def indices_to_list(indices, length):\n",
    "    return [1 if i in indices else 0 for i in range(length+1)][1:]"
   ]
  },
  {
   "cell_type": "code",
   "execution_count": 85,
   "id": "65b88d8a",
   "metadata": {
    "ExecuteTime": {
     "end_time": "2024-04-08T06:27:55.225725Z",
     "start_time": "2024-04-08T06:27:55.214432Z"
    }
   },
   "outputs": [
    {
     "data": {
      "text/plain": "     Day  Time  Max Meetings\n0      0     0             4\n1      0     1             4\n2      0     2             4\n3      0     3             4\n4      0     4             1\n..   ...   ...           ...\n165    4    29             4\n166    4    30             4\n167    4    31             4\n168    4    32             4\n169    4    33             4\n\n[170 rows x 3 columns]",
      "text/html": "<div>\n<style scoped>\n    .dataframe tbody tr th:only-of-type {\n        vertical-align: middle;\n    }\n\n    .dataframe tbody tr th {\n        vertical-align: top;\n    }\n\n    .dataframe thead th {\n        text-align: right;\n    }\n</style>\n<table border=\"1\" class=\"dataframe\">\n  <thead>\n    <tr style=\"text-align: right;\">\n      <th></th>\n      <th>Day</th>\n      <th>Time</th>\n      <th>Max Meetings</th>\n    </tr>\n  </thead>\n  <tbody>\n    <tr>\n      <th>0</th>\n      <td>0</td>\n      <td>0</td>\n      <td>4</td>\n    </tr>\n    <tr>\n      <th>1</th>\n      <td>0</td>\n      <td>1</td>\n      <td>4</td>\n    </tr>\n    <tr>\n      <th>2</th>\n      <td>0</td>\n      <td>2</td>\n      <td>4</td>\n    </tr>\n    <tr>\n      <th>3</th>\n      <td>0</td>\n      <td>3</td>\n      <td>4</td>\n    </tr>\n    <tr>\n      <th>4</th>\n      <td>0</td>\n      <td>4</td>\n      <td>1</td>\n    </tr>\n    <tr>\n      <th>...</th>\n      <td>...</td>\n      <td>...</td>\n      <td>...</td>\n    </tr>\n    <tr>\n      <th>165</th>\n      <td>4</td>\n      <td>29</td>\n      <td>4</td>\n    </tr>\n    <tr>\n      <th>166</th>\n      <td>4</td>\n      <td>30</td>\n      <td>4</td>\n    </tr>\n    <tr>\n      <th>167</th>\n      <td>4</td>\n      <td>31</td>\n      <td>4</td>\n    </tr>\n    <tr>\n      <th>168</th>\n      <td>4</td>\n      <td>32</td>\n      <td>4</td>\n    </tr>\n    <tr>\n      <th>169</th>\n      <td>4</td>\n      <td>33</td>\n      <td>4</td>\n    </tr>\n  </tbody>\n</table>\n<p>170 rows × 3 columns</p>\n</div>"
     },
     "execution_count": 85,
     "metadata": {},
     "output_type": "execute_result"
    }
   ],
   "source": [
    "\n",
    "\n",
    "maxMeetings = pd.read_csv('./data/maxMeetings.csv')\n",
    "maxMeetings['Time'] = maxMeetings['Time'].apply(lambda x: x - 24)\n",
    "maxMeetings['Max Meetings'] = maxMeetings['Max Meetings'].astype(int)\n",
    "maxMeetings"
   ]
  },
  {
   "cell_type": "code",
   "execution_count": 86,
   "id": "316fa42a",
   "metadata": {
    "ExecuteTime": {
     "end_time": "2024-04-08T06:27:55.235675Z",
     "start_time": "2024-04-08T06:27:55.229343Z"
    }
   },
   "outputs": [
    {
     "data": {
      "text/plain": "(40, 5, 34)"
     },
     "execution_count": 86,
     "metadata": {},
     "output_type": "execute_result"
    }
   ],
   "source": [
    "import itertools\n",
    "import numpy as np\n",
    "\n",
    "\n",
    "# Assuming 40 participants, 5 days, and 34 time slots\n",
    "availabilities = np.zeros((40, 5, 34), dtype=int)  # Initialize with integer type\n",
    "\n",
    "# Loop through each university and assign its schedule to the matrix\n",
    "for i in range(40):\n",
    "    schedule = universities[i].get_all_schedules()\n",
    "    # Reshape the schedule array to fit into the 3D matrix\n",
    "    schedule_reshaped = np.reshape(schedule, (5, 34)).astype(int)  # Convert boolean to integer\n",
    "    # Assign the reshaped schedule to the corresponding position in the matrix\n",
    "    availabilities[i] = schedule_reshaped\n",
    "\n",
    "availabilities.shape"
   ]
  },
  {
   "cell_type": "code",
   "execution_count": 87,
   "id": "3ec278fb",
   "metadata": {
    "ExecuteTime": {
     "end_time": "2024-04-08T06:27:55.303524Z",
     "start_time": "2024-04-08T06:27:55.236897Z"
    }
   },
   "outputs": [
    {
     "data": {
      "text/plain": "[[[0,\n   1,\n   2,\n   3,\n   4,\n   5,\n   6,\n   7,\n   8,\n   9,\n   10,\n   11,\n   12,\n   13,\n   14,\n   15,\n   16,\n   17,\n   18,\n   19,\n   20,\n   21,\n   22,\n   23,\n   24,\n   26,\n   27,\n   28,\n   29],\n  [0,\n   1,\n   2,\n   3,\n   4,\n   5,\n   6,\n   8,\n   9,\n   10,\n   11,\n   12,\n   13,\n   14,\n   15,\n   16,\n   17,\n   18,\n   19,\n   20,\n   21,\n   23,\n   24,\n   26,\n   27,\n   29],\n  [0,\n   1,\n   2,\n   3,\n   4,\n   5,\n   6,\n   7,\n   8,\n   9,\n   10,\n   11,\n   12,\n   13,\n   14,\n   15,\n   16,\n   17,\n   18,\n   19,\n   20,\n   21,\n   22,\n   23,\n   24,\n   26,\n   27,\n   28,\n   29],\n  [0,\n   1,\n   2,\n   3,\n   4,\n   5,\n   6,\n   8,\n   9,\n   10,\n   11,\n   12,\n   13,\n   14,\n   15,\n   16,\n   17,\n   18,\n   19,\n   20,\n   21,\n   23,\n   24,\n   26,\n   27,\n   28,\n   29],\n  [5, 6, 10, 20, 23, 27, 28],\n  [0,\n   1,\n   2,\n   3,\n   4,\n   5,\n   6,\n   8,\n   9,\n   10,\n   11,\n   12,\n   13,\n   14,\n   15,\n   16,\n   17,\n   18,\n   19,\n   20,\n   23,\n   24,\n   26,\n   27,\n   28,\n   29],\n  [0,\n   1,\n   2,\n   3,\n   4,\n   5,\n   6,\n   8,\n   9,\n   10,\n   11,\n   12,\n   13,\n   14,\n   15,\n   17,\n   18,\n   19,\n   20,\n   21,\n   23,\n   24,\n   25,\n   26,\n   27,\n   28,\n   29],\n  [0,\n   1,\n   2,\n   3,\n   4,\n   8,\n   9,\n   11,\n   12,\n   13,\n   14,\n   15,\n   17,\n   18,\n   19,\n   20,\n   21,\n   24,\n   26,\n   27,\n   28,\n   29],\n  [0,\n   1,\n   2,\n   3,\n   4,\n   6,\n   8,\n   9,\n   10,\n   11,\n   12,\n   13,\n   14,\n   15,\n   17,\n   18,\n   19,\n   20,\n   21,\n   24,\n   26,\n   27,\n   28,\n   29],\n  [0,\n   1,\n   2,\n   4,\n   5,\n   6,\n   7,\n   8,\n   9,\n   10,\n   11,\n   12,\n   13,\n   14,\n   15,\n   17,\n   18,\n   19,\n   20,\n   21,\n   22,\n   23,\n   24,\n   25,\n   27,\n   28,\n   29],\n  [0,\n   1,\n   2,\n   4,\n   5,\n   6,\n   8,\n   9,\n   10,\n   11,\n   12,\n   13,\n   14,\n   15,\n   17,\n   18,\n   19,\n   20,\n   23,\n   24,\n   25,\n   27,\n   29],\n  [0,\n   1,\n   2,\n   4,\n   5,\n   6,\n   8,\n   9,\n   10,\n   11,\n   12,\n   13,\n   14,\n   15,\n   17,\n   18,\n   19,\n   20,\n   21,\n   23,\n   24,\n   25,\n   27,\n   29],\n  [0,\n   1,\n   2,\n   4,\n   5,\n   6,\n   7,\n   8,\n   9,\n   11,\n   12,\n   13,\n   14,\n   15,\n   16,\n   17,\n   18,\n   19,\n   20,\n   21,\n   22,\n   23,\n   24,\n   25,\n   27,\n   28,\n   29],\n  [6, 7, 20, 21, 22, 27, 28],\n  [5, 6, 7, 20, 21, 22, 23, 25, 27, 28],\n  [0,\n   2,\n   3,\n   4,\n   6,\n   7,\n   8,\n   9,\n   11,\n   12,\n   13,\n   14,\n   15,\n   16,\n   17,\n   18,\n   19,\n   20,\n   21,\n   22,\n   23,\n   24,\n   25,\n   27,\n   28,\n   29],\n  [0,\n   2,\n   3,\n   4,\n   8,\n   9,\n   11,\n   12,\n   13,\n   14,\n   15,\n   16,\n   17,\n   18,\n   19,\n   20,\n   21,\n   23,\n   24,\n   25,\n   27,\n   29],\n  [0,\n   2,\n   3,\n   4,\n   7,\n   8,\n   9,\n   11,\n   12,\n   13,\n   14,\n   15,\n   16,\n   17,\n   18,\n   19,\n   20,\n   21,\n   22,\n   23,\n   24,\n   25,\n   27,\n   28,\n   29],\n  [0,\n   2,\n   3,\n   7,\n   8,\n   9,\n   10,\n   12,\n   13,\n   14,\n   15,\n   16,\n   17,\n   18,\n   19,\n   20,\n   21,\n   22,\n   23,\n   24,\n   25,\n   26,\n   27,\n   28,\n   29],\n  [7, 10, 20, 21, 22, 23, 25, 27, 28],\n  [0,\n   2,\n   3,\n   7,\n   8,\n   9,\n   10,\n   12,\n   13,\n   14,\n   15,\n   16,\n   17,\n   18,\n   19,\n   20,\n   21,\n   22,\n   23,\n   24,\n   25,\n   26,\n   27,\n   28,\n   29],\n  [0,\n   1,\n   2,\n   3,\n   5,\n   7,\n   8,\n   9,\n   10,\n   13,\n   14,\n   15,\n   16,\n   17,\n   18,\n   19,\n   20,\n   21,\n   22,\n   23,\n   24,\n   25,\n   26,\n   27,\n   28,\n   29],\n  [0,\n   1,\n   2,\n   3,\n   5,\n   7,\n   8,\n   9,\n   13,\n   14,\n   15,\n   16,\n   17,\n   18,\n   19,\n   21,\n   22,\n   23,\n   24,\n   25,\n   26,\n   27,\n   28,\n   29],\n  [0,\n   1,\n   2,\n   3,\n   5,\n   7,\n   8,\n   9,\n   10,\n   13,\n   14,\n   15,\n   16,\n   17,\n   18,\n   19,\n   20,\n   21,\n   22,\n   23,\n   24,\n   25,\n   26,\n   27,\n   28,\n   29],\n  [0,\n   1,\n   2,\n   3,\n   4,\n   5,\n   6,\n   7,\n   8,\n   9,\n   10,\n   11,\n   13,\n   14,\n   15,\n   16,\n   17,\n   18,\n   19,\n   20,\n   21,\n   22,\n   23,\n   24,\n   25,\n   26,\n   27,\n   28,\n   29],\n  [0,\n   1,\n   2,\n   3,\n   4,\n   5,\n   6,\n   7,\n   8,\n   9,\n   10,\n   11,\n   13,\n   14,\n   15,\n   16,\n   17,\n   18,\n   19,\n   20,\n   21,\n   22,\n   23,\n   24,\n   25,\n   26,\n   28,\n   29],\n  [0,\n   1,\n   2,\n   3,\n   4,\n   5,\n   6,\n   7,\n   8,\n   9,\n   10,\n   11,\n   13,\n   14,\n   15,\n   16,\n   17,\n   18,\n   19,\n   20,\n   21,\n   22,\n   23,\n   24,\n   25,\n   26,\n   27,\n   28,\n   29],\n  [0,\n   1,\n   2,\n   3,\n   4,\n   5,\n   6,\n   7,\n   8,\n   9,\n   10,\n   11,\n   12,\n   13,\n   14,\n   15,\n   16,\n   17,\n   18,\n   19,\n   20,\n   21,\n   22,\n   23,\n   24,\n   25,\n   26,\n   27,\n   28,\n   29],\n  [0,\n   1,\n   2,\n   3,\n   4,\n   5,\n   6,\n   7,\n   8,\n   9,\n   10,\n   11,\n   12,\n   13,\n   14,\n   15,\n   16,\n   17,\n   18,\n   19,\n   20,\n   21,\n   22,\n   23,\n   24,\n   25,\n   26,\n   27,\n   28,\n   29],\n  [0,\n   1,\n   2,\n   3,\n   4,\n   5,\n   6,\n   7,\n   8,\n   9,\n   10,\n   11,\n   12,\n   13,\n   14,\n   15,\n   16,\n   17,\n   18,\n   19,\n   20,\n   21,\n   22,\n   23,\n   24,\n   25,\n   26,\n   27,\n   28,\n   29],\n  [0,\n   1,\n   2,\n   3,\n   4,\n   5,\n   6,\n   7,\n   8,\n   9,\n   10,\n   11,\n   12,\n   13,\n   14,\n   15,\n   16,\n   17,\n   18,\n   19,\n   20,\n   21,\n   22,\n   23,\n   24,\n   25,\n   26,\n   27,\n   28,\n   29],\n  [0,\n   1,\n   2,\n   3,\n   4,\n   5,\n   6,\n   7,\n   8,\n   9,\n   10,\n   11,\n   12,\n   13,\n   14,\n   15,\n   16,\n   17,\n   18,\n   19,\n   21,\n   22,\n   23,\n   24,\n   25,\n   26,\n   27,\n   28,\n   29],\n  [0,\n   1,\n   2,\n   3,\n   4,\n   5,\n   6,\n   7,\n   8,\n   9,\n   10,\n   11,\n   12,\n   13,\n   14,\n   15,\n   16,\n   17,\n   18,\n   19,\n   21,\n   22,\n   23,\n   24,\n   25,\n   26,\n   27,\n   28,\n   29],\n  [0,\n   1,\n   2,\n   3,\n   4,\n   5,\n   6,\n   7,\n   8,\n   9,\n   10,\n   11,\n   12,\n   13,\n   14,\n   15,\n   16,\n   17,\n   18,\n   19,\n   21,\n   22,\n   23,\n   24,\n   25,\n   26,\n   27,\n   28,\n   29]],\n [[0,\n   1,\n   2,\n   3,\n   4,\n   5,\n   6,\n   7,\n   8,\n   9,\n   10,\n   11,\n   12,\n   13,\n   14,\n   15,\n   16,\n   17,\n   18,\n   19,\n   20,\n   21,\n   22,\n   23,\n   24,\n   25,\n   26,\n   27,\n   28],\n  [0,\n   1,\n   2,\n   3,\n   4,\n   5,\n   6,\n   8,\n   9,\n   10,\n   11,\n   12,\n   13,\n   14,\n   15,\n   16,\n   17,\n   18,\n   19,\n   20,\n   21,\n   23,\n   24,\n   25,\n   26,\n   27],\n  [0,\n   1,\n   2,\n   3,\n   4,\n   5,\n   6,\n   7,\n   8,\n   9,\n   10,\n   11,\n   12,\n   13,\n   14,\n   15,\n   16,\n   17,\n   18,\n   19,\n   20,\n   21,\n   22,\n   23,\n   24,\n   25,\n   26,\n   27,\n   28],\n  [0,\n   1,\n   3,\n   4,\n   5,\n   6,\n   7,\n   8,\n   9,\n   10,\n   11,\n   12,\n   13,\n   14,\n   15,\n   16,\n   17,\n   18,\n   19,\n   20,\n   21,\n   23,\n   24,\n   25,\n   26,\n   27,\n   28],\n  [5, 6, 7, 10, 20, 23, 25, 27, 28],\n  [0,\n   1,\n   3,\n   4,\n   5,\n   6,\n   7,\n   8,\n   9,\n   10,\n   11,\n   12,\n   13,\n   14,\n   15,\n   16,\n   17,\n   18,\n   19,\n   20,\n   23,\n   24,\n   25,\n   26,\n   27,\n   28],\n  [0,\n   1,\n   3,\n   4,\n   5,\n   6,\n   7,\n   8,\n   9,\n   10,\n   11,\n   12,\n   13,\n   14,\n   15,\n   16,\n   18,\n   19,\n   20,\n   21,\n   23,\n   24,\n   25,\n   26,\n   27,\n   28,\n   29],\n  [0,\n   1,\n   3,\n   4,\n   7,\n   8,\n   9,\n   11,\n   12,\n   13,\n   14,\n   15,\n   16,\n   18,\n   19,\n   20,\n   21,\n   24,\n   26,\n   27,\n   28,\n   29],\n  [0,\n   1,\n   3,\n   4,\n   6,\n   7,\n   8,\n   9,\n   10,\n   11,\n   12,\n   13,\n   14,\n   15,\n   16,\n   18,\n   19,\n   20,\n   21,\n   24,\n   26,\n   27,\n   28,\n   29],\n  [0,\n   1,\n   2,\n   3,\n   4,\n   5,\n   6,\n   7,\n   8,\n   9,\n   10,\n   11,\n   12,\n   13,\n   14,\n   15,\n   16,\n   18,\n   19,\n   20,\n   21,\n   22,\n   23,\n   24,\n   25,\n   26,\n   27,\n   28,\n   29],\n  [0,\n   1,\n   2,\n   3,\n   4,\n   5,\n   6,\n   8,\n   9,\n   10,\n   11,\n   12,\n   13,\n   14,\n   15,\n   16,\n   18,\n   19,\n   20,\n   23,\n   24,\n   25,\n   26,\n   27,\n   29],\n  [0,\n   1,\n   2,\n   3,\n   4,\n   5,\n   6,\n   8,\n   9,\n   10,\n   11,\n   12,\n   13,\n   14,\n   15,\n   16,\n   18,\n   19,\n   20,\n   21,\n   23,\n   24,\n   25,\n   26,\n   27,\n   29],\n  [0,\n   1,\n   2,\n   3,\n   4,\n   5,\n   6,\n   7,\n   8,\n   9,\n   10,\n   11,\n   12,\n   13,\n   14,\n   15,\n   16,\n   17,\n   18,\n   19,\n   20,\n   21,\n   22,\n   23,\n   24,\n   25,\n   26,\n   27,\n   28,\n   29],\n  [6, 7, 10, 20, 21, 22, 27, 28],\n  [5, 6, 7, 10, 20, 21, 22, 23, 25, 27, 28],\n  [0,\n   1,\n   2,\n   3,\n   4,\n   5,\n   6,\n   7,\n   8,\n   9,\n   10,\n   11,\n   12,\n   13,\n   14,\n   16,\n   17,\n   18,\n   19,\n   20,\n   21,\n   22,\n   24,\n   25,\n   26,\n   27,\n   28,\n   29],\n  [0,\n   1,\n   2,\n   3,\n   4,\n   5,\n   8,\n   9,\n   11,\n   12,\n   13,\n   14,\n   16,\n   17,\n   18,\n   19,\n   20,\n   21,\n   24,\n   25,\n   26,\n   27,\n   29],\n  [0,\n   1,\n   2,\n   3,\n   4,\n   5,\n   7,\n   8,\n   9,\n   11,\n   12,\n   13,\n   14,\n   16,\n   17,\n   18,\n   19,\n   20,\n   21,\n   22,\n   24,\n   25,\n   26,\n   27,\n   28,\n   29],\n  [1,\n   2,\n   3,\n   4,\n   5,\n   6,\n   7,\n   8,\n   9,\n   10,\n   11,\n   12,\n   13,\n   14,\n   16,\n   17,\n   18,\n   19,\n   20,\n   21,\n   22,\n   24,\n   25,\n   26,\n   27,\n   28,\n   29],\n  [5, 6, 7, 10, 20, 21, 22, 25, 27, 28],\n  [1,\n   2,\n   3,\n   4,\n   5,\n   6,\n   7,\n   8,\n   9,\n   10,\n   11,\n   12,\n   13,\n   14,\n   16,\n   17,\n   18,\n   19,\n   20,\n   21,\n   22,\n   24,\n   25,\n   26,\n   27,\n   28,\n   29],\n  [1,\n   2,\n   3,\n   4,\n   5,\n   6,\n   7,\n   8,\n   9,\n   10,\n   11,\n   12,\n   13,\n   14,\n   15,\n   16,\n   17,\n   18,\n   20,\n   21,\n   22,\n   23,\n   25,\n   26,\n   27,\n   28,\n   29],\n  [1,\n   2,\n   3,\n   4,\n   5,\n   7,\n   8,\n   9,\n   11,\n   12,\n   13,\n   14,\n   15,\n   16,\n   17,\n   18,\n   21,\n   22,\n   23,\n   25,\n   26,\n   27,\n   28,\n   29],\n  [1,\n   2,\n   3,\n   4,\n   5,\n   6,\n   7,\n   8,\n   9,\n   10,\n   11,\n   12,\n   13,\n   14,\n   15,\n   16,\n   17,\n   18,\n   20,\n   21,\n   22,\n   23,\n   25,\n   26,\n   27,\n   28,\n   29],\n  [0,\n   1,\n   2,\n   3,\n   4,\n   5,\n   6,\n   7,\n   8,\n   9,\n   10,\n   11,\n   12,\n   13,\n   14,\n   15,\n   16,\n   17,\n   18,\n   20,\n   21,\n   22,\n   23,\n   25,\n   26,\n   27,\n   28,\n   29],\n  [0,\n   1,\n   2,\n   3,\n   4,\n   5,\n   6,\n   7,\n   8,\n   9,\n   10,\n   11,\n   12,\n   13,\n   14,\n   15,\n   16,\n   17,\n   18,\n   20,\n   21,\n   22,\n   23,\n   25,\n   26,\n   28,\n   29],\n  [0,\n   1,\n   2,\n   3,\n   4,\n   5,\n   6,\n   7,\n   8,\n   9,\n   10,\n   11,\n   12,\n   13,\n   14,\n   15,\n   16,\n   17,\n   18,\n   20,\n   21,\n   22,\n   23,\n   25,\n   26,\n   27,\n   28,\n   29],\n  [0,\n   1,\n   2,\n   3,\n   4,\n   5,\n   6,\n   7,\n   8,\n   9,\n   10,\n   11,\n   12,\n   13,\n   14,\n   15,\n   16,\n   17,\n   18,\n   19,\n   20,\n   21,\n   22,\n   23,\n   24,\n   25,\n   26,\n   27,\n   28,\n   29],\n  [0,\n   1,\n   2,\n   3,\n   4,\n   5,\n   6,\n   7,\n   8,\n   9,\n   10,\n   11,\n   12,\n   13,\n   14,\n   15,\n   16,\n   17,\n   18,\n   19,\n   20,\n   21,\n   22,\n   23,\n   24,\n   25,\n   26,\n   27,\n   28,\n   29],\n  [0,\n   1,\n   2,\n   3,\n   4,\n   5,\n   6,\n   7,\n   8,\n   9,\n   10,\n   11,\n   12,\n   13,\n   14,\n   15,\n   16,\n   17,\n   18,\n   19,\n   20,\n   21,\n   22,\n   23,\n   24,\n   25,\n   26,\n   27,\n   28,\n   29],\n  [0,\n   1,\n   2,\n   3,\n   4,\n   5,\n   6,\n   7,\n   8,\n   9,\n   10,\n   11,\n   12,\n   13,\n   14,\n   15,\n   16,\n   17,\n   18,\n   19,\n   20,\n   21,\n   22,\n   23,\n   24,\n   25,\n   26,\n   27,\n   28,\n   29],\n  [0,\n   1,\n   2,\n   3,\n   4,\n   5,\n   6,\n   7,\n   8,\n   9,\n   10,\n   11,\n   12,\n   13,\n   14,\n   15,\n   16,\n   17,\n   18,\n   19,\n   21,\n   22,\n   23,\n   24,\n   25,\n   26,\n   27,\n   28,\n   29],\n  [0,\n   1,\n   2,\n   3,\n   4,\n   5,\n   6,\n   7,\n   8,\n   9,\n   10,\n   11,\n   12,\n   13,\n   14,\n   15,\n   16,\n   17,\n   18,\n   19,\n   21,\n   22,\n   23,\n   24,\n   25,\n   26,\n   27,\n   28,\n   29],\n  [0,\n   1,\n   2,\n   3,\n   4,\n   5,\n   6,\n   7,\n   8,\n   9,\n   10,\n   11,\n   12,\n   13,\n   14,\n   15,\n   16,\n   17,\n   18,\n   19,\n   21,\n   22,\n   23,\n   24,\n   25,\n   26,\n   27,\n   28,\n   29]],\n [[0,\n   1,\n   2,\n   3,\n   4,\n   5,\n   6,\n   7,\n   8,\n   9,\n   10,\n   11,\n   12,\n   13,\n   14,\n   15,\n   16,\n   17,\n   18,\n   19,\n   20,\n   21,\n   22,\n   23,\n   24,\n   26,\n   27,\n   28,\n   29],\n  [0,\n   1,\n   2,\n   3,\n   4,\n   5,\n   6,\n   8,\n   9,\n   10,\n   11,\n   12,\n   13,\n   14,\n   15,\n   16,\n   17,\n   18,\n   19,\n   20,\n   21,\n   23,\n   24,\n   26,\n   27,\n   29],\n  [0,\n   1,\n   2,\n   3,\n   4,\n   5,\n   6,\n   7,\n   8,\n   9,\n   10,\n   11,\n   12,\n   13,\n   14,\n   15,\n   16,\n   17,\n   18,\n   19,\n   20,\n   21,\n   22,\n   23,\n   24,\n   26,\n   27,\n   28,\n   29],\n  [0,\n   1,\n   2,\n   3,\n   4,\n   5,\n   6,\n   8,\n   9,\n   10,\n   11,\n   12,\n   13,\n   14,\n   15,\n   16,\n   17,\n   18,\n   19,\n   20,\n   21,\n   22,\n   23,\n   24,\n   26,\n   27,\n   28,\n   29],\n  [5, 6, 10, 20, 22, 23, 27, 28],\n  [0,\n   1,\n   2,\n   3,\n   4,\n   5,\n   6,\n   8,\n   9,\n   10,\n   11,\n   12,\n   13,\n   14,\n   15,\n   16,\n   17,\n   18,\n   19,\n   20,\n   22,\n   23,\n   24,\n   26,\n   27,\n   28,\n   29],\n  [0,\n   1,\n   2,\n   3,\n   4,\n   5,\n   6,\n   8,\n   9,\n   10,\n   11,\n   12,\n   13,\n   15,\n   17,\n   18,\n   19,\n   20,\n   21,\n   22,\n   23,\n   24,\n   25,\n   26,\n   27,\n   28,\n   29],\n  [0,\n   1,\n   2,\n   3,\n   4,\n   8,\n   9,\n   11,\n   12,\n   13,\n   15,\n   17,\n   18,\n   19,\n   20,\n   21,\n   22,\n   24,\n   26,\n   27,\n   28,\n   29],\n  [0,\n   1,\n   2,\n   3,\n   4,\n   6,\n   8,\n   9,\n   10,\n   11,\n   12,\n   13,\n   15,\n   17,\n   18,\n   19,\n   20,\n   21,\n   22,\n   24,\n   26,\n   27,\n   28,\n   29],\n  [0,\n   1,\n   2,\n   3,\n   4,\n   5,\n   6,\n   7,\n   8,\n   9,\n   10,\n   11,\n   12,\n   13,\n   15,\n   17,\n   18,\n   19,\n   20,\n   21,\n   22,\n   23,\n   24,\n   25,\n   26,\n   27,\n   28,\n   29],\n  [0,\n   1,\n   2,\n   3,\n   4,\n   5,\n   6,\n   8,\n   9,\n   10,\n   11,\n   12,\n   13,\n   15,\n   17,\n   18,\n   19,\n   20,\n   23,\n   24,\n   25,\n   26,\n   27,\n   29],\n  [0,\n   1,\n   2,\n   3,\n   4,\n   5,\n   6,\n   8,\n   9,\n   10,\n   11,\n   12,\n   13,\n   15,\n   17,\n   18,\n   19,\n   20,\n   21,\n   23,\n   24,\n   25,\n   26,\n   27,\n   29],\n  [0,\n   1,\n   2,\n   3,\n   4,\n   5,\n   6,\n   7,\n   8,\n   9,\n   10,\n   11,\n   12,\n   14,\n   15,\n   16,\n   17,\n   18,\n   19,\n   20,\n   21,\n   22,\n   23,\n   24,\n   25,\n   26,\n   27,\n   28,\n   29],\n  [6, 7, 10, 20, 21, 22, 27, 28],\n  [5, 6, 7, 10, 20, 21, 22, 23, 25, 27, 28],\n  [0,\n   2,\n   3,\n   4,\n   5,\n   6,\n   7,\n   8,\n   9,\n   10,\n   11,\n   12,\n   14,\n   15,\n   16,\n   17,\n   18,\n   19,\n   20,\n   21,\n   22,\n   24,\n   25,\n   26,\n   27,\n   28,\n   29],\n  [0,\n   2,\n   3,\n   4,\n   5,\n   8,\n   9,\n   11,\n   12,\n   14,\n   15,\n   16,\n   17,\n   18,\n   19,\n   20,\n   21,\n   24,\n   25,\n   26,\n   27,\n   29],\n  [0,\n   2,\n   3,\n   4,\n   5,\n   7,\n   8,\n   9,\n   11,\n   12,\n   14,\n   15,\n   16,\n   17,\n   18,\n   19,\n   20,\n   21,\n   22,\n   24,\n   25,\n   26,\n   27,\n   28,\n   29],\n  [0,\n   2,\n   3,\n   4,\n   5,\n   6,\n   7,\n   8,\n   9,\n   10,\n   11,\n   12,\n   14,\n   15,\n   16,\n   17,\n   18,\n   19,\n   20,\n   21,\n   22,\n   24,\n   25,\n   26,\n   27,\n   28,\n   29],\n  [5, 6, 7, 10, 20, 21, 22, 25, 27, 28],\n  [0,\n   2,\n   3,\n   4,\n   5,\n   6,\n   7,\n   8,\n   9,\n   10,\n   11,\n   12,\n   14,\n   15,\n   16,\n   17,\n   18,\n   19,\n   20,\n   21,\n   22,\n   24,\n   25,\n   26,\n   27,\n   28,\n   29],\n  [0,\n   1,\n   2,\n   3,\n   4,\n   5,\n   6,\n   7,\n   8,\n   9,\n   10,\n   11,\n   12,\n   14,\n   15,\n   16,\n   17,\n   18,\n   19,\n   20,\n   21,\n   22,\n   23,\n   25,\n   26,\n   27,\n   28,\n   29],\n  [0,\n   1,\n   2,\n   3,\n   4,\n   5,\n   7,\n   8,\n   9,\n   11,\n   12,\n   14,\n   15,\n   16,\n   17,\n   18,\n   19,\n   21,\n   22,\n   23,\n   25,\n   26,\n   27,\n   28,\n   29],\n  [0,\n   1,\n   2,\n   3,\n   4,\n   5,\n   6,\n   7,\n   8,\n   9,\n   10,\n   11,\n   12,\n   14,\n   15,\n   16,\n   17,\n   18,\n   19,\n   20,\n   21,\n   22,\n   23,\n   25,\n   26,\n   27,\n   28,\n   29],\n  [0,\n   1,\n   2,\n   3,\n   4,\n   5,\n   6,\n   7,\n   8,\n   9,\n   10,\n   11,\n   12,\n   14,\n   15,\n   16,\n   17,\n   18,\n   19,\n   20,\n   21,\n   22,\n   23,\n   25,\n   26,\n   27,\n   28,\n   29],\n  [0,\n   1,\n   2,\n   3,\n   4,\n   5,\n   6,\n   7,\n   8,\n   9,\n   10,\n   11,\n   12,\n   14,\n   15,\n   16,\n   17,\n   18,\n   19,\n   20,\n   21,\n   22,\n   23,\n   25,\n   26,\n   28,\n   29],\n  [0,\n   1,\n   2,\n   3,\n   4,\n   5,\n   6,\n   7,\n   8,\n   9,\n   10,\n   11,\n   12,\n   14,\n   15,\n   16,\n   17,\n   18,\n   19,\n   20,\n   21,\n   22,\n   23,\n   25,\n   26,\n   27,\n   28,\n   29],\n  [0,\n   1,\n   2,\n   3,\n   4,\n   5,\n   6,\n   7,\n   8,\n   9,\n   10,\n   11,\n   12,\n   13,\n   14,\n   15,\n   16,\n   17,\n   18,\n   19,\n   20,\n   21,\n   22,\n   23,\n   24,\n   25,\n   26,\n   27,\n   28,\n   29],\n  [0,\n   1,\n   2,\n   3,\n   4,\n   5,\n   6,\n   7,\n   8,\n   9,\n   10,\n   11,\n   12,\n   13,\n   14,\n   15,\n   16,\n   17,\n   18,\n   19,\n   20,\n   21,\n   22,\n   23,\n   24,\n   25,\n   26,\n   27,\n   28,\n   29],\n  [0,\n   1,\n   2,\n   3,\n   4,\n   5,\n   6,\n   7,\n   8,\n   9,\n   10,\n   11,\n   12,\n   13,\n   14,\n   15,\n   16,\n   17,\n   18,\n   19,\n   20,\n   21,\n   22,\n   23,\n   24,\n   25,\n   26,\n   27,\n   28,\n   29],\n  [0,\n   1,\n   2,\n   3,\n   4,\n   5,\n   6,\n   7,\n   8,\n   9,\n   10,\n   11,\n   12,\n   13,\n   14,\n   15,\n   16,\n   17,\n   18,\n   19,\n   20,\n   21,\n   22,\n   23,\n   24,\n   25,\n   26,\n   27,\n   28,\n   29],\n  [0,\n   1,\n   2,\n   3,\n   4,\n   5,\n   6,\n   7,\n   8,\n   9,\n   10,\n   11,\n   12,\n   13,\n   14,\n   15,\n   16,\n   17,\n   18,\n   19,\n   21,\n   22,\n   23,\n   24,\n   25,\n   26,\n   27,\n   28,\n   29],\n  [0,\n   1,\n   2,\n   3,\n   4,\n   5,\n   6,\n   7,\n   8,\n   9,\n   10,\n   11,\n   12,\n   13,\n   14,\n   15,\n   16,\n   17,\n   18,\n   19,\n   21,\n   22,\n   23,\n   24,\n   25,\n   26,\n   27,\n   28,\n   29],\n  [0,\n   1,\n   2,\n   3,\n   4,\n   5,\n   6,\n   7,\n   8,\n   9,\n   10,\n   11,\n   12,\n   13,\n   14,\n   15,\n   16,\n   17,\n   18,\n   19,\n   20,\n   21,\n   22,\n   23,\n   24,\n   25,\n   26,\n   27,\n   28,\n   29]],\n [[0,\n   1,\n   2,\n   3,\n   4,\n   5,\n   6,\n   7,\n   9,\n   10,\n   11,\n   12,\n   13,\n   14,\n   15,\n   16,\n   17,\n   18,\n   19,\n   20,\n   22,\n   23,\n   24,\n   25,\n   26,\n   27,\n   28],\n  [0,\n   1,\n   2,\n   3,\n   4,\n   5,\n   6,\n   9,\n   10,\n   11,\n   12,\n   13,\n   14,\n   15,\n   16,\n   17,\n   18,\n   19,\n   20,\n   23,\n   24,\n   25,\n   26,\n   27],\n  [0,\n   1,\n   2,\n   3,\n   4,\n   5,\n   6,\n   7,\n   9,\n   10,\n   11,\n   12,\n   13,\n   14,\n   15,\n   16,\n   17,\n   18,\n   19,\n   20,\n   22,\n   23,\n   24,\n   25,\n   26,\n   27,\n   28],\n  [0,\n   1,\n   2,\n   3,\n   4,\n   5,\n   6,\n   7,\n   9,\n   10,\n   11,\n   12,\n   13,\n   14,\n   15,\n   16,\n   17,\n   18,\n   19,\n   20,\n   21,\n   22,\n   23,\n   24,\n   25,\n   26,\n   27,\n   28],\n  [5, 6, 7, 10, 20, 22, 23, 25, 27, 28],\n  [0,\n   1,\n   2,\n   3,\n   4,\n   5,\n   6,\n   7,\n   9,\n   10,\n   11,\n   12,\n   13,\n   14,\n   15,\n   16,\n   17,\n   18,\n   19,\n   20,\n   22,\n   23,\n   24,\n   25,\n   26,\n   27,\n   28],\n  [0,\n   1,\n   2,\n   3,\n   4,\n   5,\n   6,\n   7,\n   9,\n   10,\n   11,\n   12,\n   13,\n   14,\n   15,\n   16,\n   17,\n   19,\n   20,\n   21,\n   22,\n   23,\n   24,\n   25,\n   26,\n   27,\n   28,\n   29],\n  [0,\n   1,\n   2,\n   3,\n   4,\n   7,\n   9,\n   11,\n   12,\n   13,\n   14,\n   15,\n   16,\n   17,\n   19,\n   20,\n   21,\n   22,\n   24,\n   26,\n   27,\n   28,\n   29],\n  [0,\n   1,\n   2,\n   3,\n   4,\n   6,\n   7,\n   9,\n   10,\n   11,\n   12,\n   13,\n   14,\n   15,\n   16,\n   17,\n   19,\n   20,\n   21,\n   22,\n   24,\n   26,\n   27,\n   28,\n   29],\n  [0,\n   1,\n   2,\n   4,\n   5,\n   6,\n   7,\n   9,\n   10,\n   11,\n   12,\n   13,\n   14,\n   15,\n   16,\n   17,\n   19,\n   20,\n   21,\n   22,\n   23,\n   24,\n   25,\n   26,\n   27,\n   28,\n   29],\n  [0,\n   1,\n   2,\n   4,\n   5,\n   6,\n   9,\n   10,\n   11,\n   12,\n   13,\n   14,\n   15,\n   16,\n   17,\n   19,\n   20,\n   23,\n   24,\n   25,\n   26,\n   27,\n   29],\n  [0,\n   1,\n   2,\n   4,\n   5,\n   6,\n   9,\n   10,\n   11,\n   12,\n   13,\n   14,\n   15,\n   16,\n   17,\n   19,\n   20,\n   21,\n   23,\n   24,\n   25,\n   26,\n   27,\n   29],\n  [0,\n   1,\n   2,\n   4,\n   5,\n   6,\n   7,\n   8,\n   9,\n   11,\n   12,\n   13,\n   14,\n   15,\n   16,\n   17,\n   19,\n   20,\n   21,\n   22,\n   23,\n   24,\n   25,\n   26,\n   27,\n   28,\n   29],\n  [6, 7, 20, 21, 22, 27, 28],\n  [5, 6, 7, 20, 21, 22, 23, 25, 27, 28],\n  [0,\n   1,\n   2,\n   3,\n   4,\n   5,\n   6,\n   7,\n   8,\n   9,\n   11,\n   12,\n   13,\n   14,\n   16,\n   17,\n   19,\n   20,\n   21,\n   22,\n   23,\n   24,\n   25,\n   26,\n   27,\n   28,\n   29],\n  [0,\n   1,\n   2,\n   3,\n   4,\n   5,\n   8,\n   9,\n   11,\n   12,\n   13,\n   14,\n   16,\n   17,\n   19,\n   20,\n   21,\n   23,\n   24,\n   25,\n   26,\n   27,\n   29],\n  [0,\n   1,\n   2,\n   3,\n   4,\n   5,\n   7,\n   8,\n   9,\n   11,\n   12,\n   13,\n   14,\n   16,\n   17,\n   19,\n   20,\n   21,\n   22,\n   23,\n   24,\n   25,\n   26,\n   27,\n   28,\n   29],\n  [1,\n   2,\n   3,\n   4,\n   5,\n   6,\n   7,\n   8,\n   9,\n   10,\n   11,\n   12,\n   13,\n   14,\n   16,\n   17,\n   19,\n   20,\n   21,\n   22,\n   23,\n   24,\n   25,\n   26,\n   27,\n   28,\n   29],\n  [5, 6, 7, 10, 20, 21, 22, 23, 25, 27, 28],\n  [1,\n   2,\n   3,\n   4,\n   5,\n   6,\n   7,\n   8,\n   9,\n   10,\n   11,\n   12,\n   13,\n   14,\n   16,\n   17,\n   19,\n   20,\n   21,\n   22,\n   23,\n   24,\n   25,\n   26,\n   27,\n   28,\n   29],\n  [1,\n   2,\n   3,\n   4,\n   5,\n   6,\n   7,\n   8,\n   9,\n   10,\n   11,\n   12,\n   13,\n   14,\n   15,\n   16,\n   17,\n   18,\n   20,\n   21,\n   22,\n   23,\n   24,\n   25,\n   26,\n   27,\n   28,\n   29],\n  [1,\n   2,\n   3,\n   4,\n   5,\n   7,\n   8,\n   9,\n   11,\n   12,\n   13,\n   14,\n   15,\n   16,\n   17,\n   18,\n   21,\n   22,\n   23,\n   24,\n   25,\n   26,\n   27,\n   28,\n   29],\n  [1,\n   2,\n   3,\n   4,\n   5,\n   6,\n   7,\n   8,\n   9,\n   10,\n   11,\n   12,\n   13,\n   14,\n   15,\n   16,\n   17,\n   18,\n   20,\n   21,\n   22,\n   23,\n   24,\n   25,\n   26,\n   27,\n   28,\n   29],\n  [0,\n   1,\n   2,\n   3,\n   4,\n   5,\n   6,\n   7,\n   8,\n   9,\n   10,\n   11,\n   12,\n   13,\n   14,\n   15,\n   16,\n   17,\n   18,\n   20,\n   21,\n   22,\n   23,\n   24,\n   25,\n   26,\n   27,\n   28,\n   29],\n  [0,\n   1,\n   2,\n   3,\n   4,\n   5,\n   6,\n   7,\n   8,\n   9,\n   10,\n   11,\n   12,\n   13,\n   14,\n   15,\n   16,\n   17,\n   18,\n   20,\n   21,\n   22,\n   23,\n   24,\n   25,\n   26,\n   28,\n   29],\n  [0,\n   1,\n   2,\n   3,\n   4,\n   5,\n   6,\n   7,\n   8,\n   9,\n   10,\n   11,\n   12,\n   13,\n   14,\n   15,\n   16,\n   17,\n   18,\n   20,\n   21,\n   22,\n   23,\n   24,\n   25,\n   26,\n   27,\n   28,\n   29],\n  [0,\n   1,\n   2,\n   3,\n   4,\n   5,\n   6,\n   7,\n   8,\n   9,\n   10,\n   11,\n   12,\n   13,\n   14,\n   15,\n   16,\n   17,\n   18,\n   19,\n   20,\n   21,\n   22,\n   23,\n   24,\n   25,\n   26,\n   27,\n   28,\n   29],\n  [0,\n   1,\n   2,\n   3,\n   4,\n   5,\n   6,\n   7,\n   8,\n   9,\n   10,\n   11,\n   12,\n   13,\n   14,\n   15,\n   16,\n   17,\n   18,\n   19,\n   20,\n   21,\n   22,\n   23,\n   24,\n   25,\n   26,\n   27,\n   28,\n   29],\n  [0,\n   1,\n   2,\n   3,\n   4,\n   5,\n   6,\n   7,\n   8,\n   9,\n   10,\n   11,\n   12,\n   13,\n   14,\n   15,\n   16,\n   17,\n   18,\n   19,\n   20,\n   21,\n   22,\n   23,\n   24,\n   25,\n   26,\n   27,\n   28,\n   29],\n  [0,\n   1,\n   2,\n   3,\n   4,\n   5,\n   6,\n   7,\n   8,\n   9,\n   10,\n   11,\n   12,\n   13,\n   14,\n   15,\n   16,\n   17,\n   18,\n   19,\n   20,\n   21,\n   22,\n   23,\n   24,\n   25,\n   26,\n   27,\n   28,\n   29],\n  [0,\n   1,\n   2,\n   3,\n   4,\n   5,\n   6,\n   7,\n   8,\n   9,\n   10,\n   11,\n   12,\n   13,\n   14,\n   15,\n   16,\n   17,\n   18,\n   19,\n   21,\n   22,\n   23,\n   24,\n   25,\n   26,\n   27,\n   28,\n   29],\n  [0,\n   1,\n   2,\n   3,\n   4,\n   5,\n   6,\n   7,\n   8,\n   9,\n   10,\n   11,\n   12,\n   13,\n   14,\n   15,\n   16,\n   17,\n   18,\n   19,\n   21,\n   22,\n   23,\n   24,\n   25,\n   26,\n   27,\n   28,\n   29],\n  [0,\n   1,\n   2,\n   3,\n   4,\n   5,\n   6,\n   7,\n   8,\n   9,\n   10,\n   11,\n   12,\n   13,\n   14,\n   15,\n   16,\n   17,\n   18,\n   19,\n   20,\n   21,\n   22,\n   23,\n   24,\n   25,\n   26,\n   27,\n   28,\n   29]],\n [[0,\n   1,\n   2,\n   3,\n   4,\n   5,\n   6,\n   7,\n   8,\n   9,\n   10,\n   11,\n   12,\n   13,\n   14,\n   15,\n   16,\n   17,\n   18,\n   19,\n   20,\n   21,\n   22,\n   23,\n   24,\n   25,\n   26,\n   27,\n   28,\n   29],\n  [0,\n   1,\n   2,\n   3,\n   4,\n   5,\n   6,\n   8,\n   9,\n   10,\n   11,\n   12,\n   13,\n   14,\n   15,\n   16,\n   17,\n   18,\n   19,\n   20,\n   21,\n   23,\n   24,\n   25,\n   26,\n   27,\n   29],\n  [0,\n   1,\n   2,\n   3,\n   4,\n   5,\n   6,\n   7,\n   8,\n   9,\n   10,\n   11,\n   12,\n   13,\n   14,\n   15,\n   16,\n   17,\n   18,\n   19,\n   20,\n   21,\n   22,\n   23,\n   24,\n   25,\n   26,\n   27,\n   28,\n   29],\n  [0,\n   1,\n   3,\n   4,\n   5,\n   6,\n   7,\n   8,\n   9,\n   10,\n   11,\n   12,\n   13,\n   14,\n   15,\n   16,\n   17,\n   18,\n   19,\n   20,\n   21,\n   22,\n   23,\n   24,\n   25,\n   26,\n   27,\n   28,\n   29],\n  [5, 6, 7, 10, 20, 22, 23, 25, 27, 28],\n  [0,\n   1,\n   3,\n   4,\n   5,\n   6,\n   7,\n   8,\n   9,\n   10,\n   11,\n   12,\n   13,\n   14,\n   15,\n   16,\n   17,\n   18,\n   19,\n   20,\n   22,\n   23,\n   24,\n   25,\n   26,\n   27,\n   28,\n   29],\n  [0,\n   1,\n   3,\n   4,\n   5,\n   6,\n   7,\n   8,\n   9,\n   10,\n   11,\n   12,\n   13,\n   15,\n   16,\n   18,\n   19,\n   20,\n   21,\n   22,\n   23,\n   24,\n   25,\n   26,\n   27,\n   28,\n   29],\n  [0,\n   1,\n   3,\n   4,\n   7,\n   8,\n   9,\n   11,\n   12,\n   13,\n   15,\n   16,\n   18,\n   19,\n   20,\n   21,\n   22,\n   24,\n   26,\n   27,\n   28,\n   29],\n  [0,\n   1,\n   3,\n   4,\n   6,\n   7,\n   8,\n   9,\n   10,\n   11,\n   12,\n   13,\n   15,\n   16,\n   18,\n   19,\n   20,\n   21,\n   22,\n   24,\n   26,\n   27,\n   28,\n   29],\n  [0,\n   1,\n   2,\n   3,\n   4,\n   5,\n   6,\n   7,\n   8,\n   10,\n   11,\n   12,\n   13,\n   15,\n   16,\n   18,\n   19,\n   20,\n   21,\n   22,\n   23,\n   24,\n   25,\n   27,\n   29],\n  [0,\n   1,\n   2,\n   3,\n   4,\n   5,\n   6,\n   8,\n   10,\n   11,\n   12,\n   13,\n   15,\n   16,\n   18,\n   19,\n   20,\n   23,\n   24,\n   25,\n   27,\n   29],\n  [0,\n   1,\n   2,\n   3,\n   4,\n   5,\n   6,\n   8,\n   10,\n   11,\n   12,\n   13,\n   15,\n   16,\n   18,\n   19,\n   20,\n   21,\n   23,\n   24,\n   25,\n   27,\n   29],\n  [0,\n   1,\n   2,\n   3,\n   4,\n   5,\n   6,\n   7,\n   8,\n   10,\n   11,\n   12,\n   13,\n   14,\n   15,\n   16,\n   17,\n   18,\n   19,\n   20,\n   21,\n   22,\n   23,\n   24,\n   25,\n   27,\n   29],\n  [6, 7, 10, 20, 21, 22, 27],\n  [5, 6, 7, 10, 20, 21, 22, 23, 25, 27],\n  [0,\n   1,\n   2,\n   3,\n   4,\n   6,\n   7,\n   8,\n   9,\n   10,\n   11,\n   12,\n   13,\n   14,\n   15,\n   16,\n   17,\n   18,\n   19,\n   20,\n   21,\n   22,\n   23,\n   24,\n   25,\n   27,\n   29],\n  [0,\n   1,\n   2,\n   3,\n   4,\n   8,\n   9,\n   11,\n   12,\n   13,\n   14,\n   15,\n   16,\n   17,\n   18,\n   19,\n   20,\n   21,\n   23,\n   24,\n   25,\n   27,\n   29],\n  [0,\n   1,\n   2,\n   3,\n   4,\n   7,\n   8,\n   9,\n   11,\n   12,\n   13,\n   14,\n   15,\n   16,\n   17,\n   18,\n   19,\n   20,\n   21,\n   22,\n   23,\n   24,\n   25,\n   27,\n   29],\n  [0,\n   1,\n   2,\n   3,\n   6,\n   7,\n   8,\n   9,\n   10,\n   12,\n   13,\n   14,\n   15,\n   16,\n   17,\n   18,\n   19,\n   20,\n   21,\n   22,\n   23,\n   24,\n   25,\n   26,\n   27,\n   29],\n  [6, 7, 10, 20, 21, 22, 23, 25, 27],\n  [0,\n   1,\n   2,\n   3,\n   6,\n   7,\n   8,\n   9,\n   10,\n   12,\n   13,\n   14,\n   15,\n   16,\n   17,\n   18,\n   19,\n   20,\n   21,\n   22,\n   23,\n   24,\n   25,\n   26,\n   27,\n   29],\n  [0,\n   1,\n   2,\n   3,\n   5,\n   6,\n   7,\n   8,\n   9,\n   10,\n   13,\n   14,\n   15,\n   16,\n   17,\n   18,\n   19,\n   20,\n   21,\n   22,\n   23,\n   24,\n   25,\n   26,\n   27,\n   28,\n   29],\n  [0,\n   1,\n   2,\n   3,\n   5,\n   7,\n   8,\n   9,\n   13,\n   14,\n   15,\n   16,\n   17,\n   18,\n   19,\n   21,\n   22,\n   23,\n   24,\n   25,\n   26,\n   27,\n   28,\n   29],\n  [0,\n   1,\n   2,\n   3,\n   5,\n   6,\n   7,\n   8,\n   9,\n   10,\n   13,\n   14,\n   15,\n   16,\n   17,\n   18,\n   19,\n   20,\n   21,\n   22,\n   23,\n   24,\n   25,\n   26,\n   27,\n   28,\n   29],\n  [0,\n   1,\n   2,\n   3,\n   4,\n   5,\n   6,\n   7,\n   8,\n   9,\n   10,\n   11,\n   13,\n   14,\n   15,\n   16,\n   17,\n   18,\n   19,\n   20,\n   21,\n   22,\n   23,\n   24,\n   25,\n   26,\n   27,\n   28,\n   29],\n  [0,\n   1,\n   2,\n   3,\n   4,\n   5,\n   6,\n   7,\n   8,\n   9,\n   10,\n   11,\n   13,\n   14,\n   15,\n   16,\n   17,\n   18,\n   19,\n   20,\n   21,\n   22,\n   23,\n   24,\n   25,\n   26,\n   28,\n   29],\n  [0,\n   1,\n   2,\n   3,\n   4,\n   5,\n   6,\n   7,\n   8,\n   9,\n   10,\n   11,\n   13,\n   14,\n   15,\n   16,\n   17,\n   18,\n   19,\n   20,\n   21,\n   22,\n   23,\n   24,\n   25,\n   26,\n   27,\n   28,\n   29],\n  [0,\n   1,\n   2,\n   3,\n   4,\n   5,\n   6,\n   7,\n   8,\n   9,\n   10,\n   11,\n   12,\n   13,\n   14,\n   15,\n   16,\n   17,\n   18,\n   19,\n   20,\n   21,\n   22,\n   23,\n   24,\n   25,\n   26,\n   27,\n   28,\n   29],\n  [0,\n   1,\n   2,\n   3,\n   4,\n   5,\n   6,\n   7,\n   8,\n   9,\n   10,\n   11,\n   12,\n   13,\n   14,\n   15,\n   16,\n   17,\n   18,\n   19,\n   20,\n   21,\n   22,\n   23,\n   24,\n   25,\n   26,\n   27,\n   28,\n   29],\n  [0,\n   1,\n   2,\n   3,\n   4,\n   5,\n   6,\n   7,\n   8,\n   9,\n   10,\n   11,\n   12,\n   13,\n   14,\n   15,\n   16,\n   17,\n   18,\n   19,\n   20,\n   21,\n   22,\n   23,\n   24,\n   25,\n   26,\n   27,\n   28,\n   29],\n  [0,\n   1,\n   2,\n   3,\n   4,\n   5,\n   6,\n   7,\n   8,\n   9,\n   10,\n   11,\n   12,\n   13,\n   14,\n   15,\n   16,\n   17,\n   18,\n   19,\n   20,\n   21,\n   22,\n   23,\n   24,\n   25,\n   26,\n   27,\n   28,\n   29],\n  [0,\n   1,\n   2,\n   3,\n   4,\n   5,\n   6,\n   7,\n   8,\n   9,\n   10,\n   11,\n   12,\n   13,\n   14,\n   15,\n   16,\n   17,\n   18,\n   19,\n   21,\n   22,\n   23,\n   24,\n   25,\n   26,\n   27,\n   28,\n   29],\n  [0,\n   1,\n   2,\n   3,\n   4,\n   5,\n   6,\n   7,\n   8,\n   9,\n   10,\n   11,\n   12,\n   13,\n   14,\n   15,\n   16,\n   17,\n   18,\n   19,\n   21,\n   22,\n   23,\n   24,\n   25,\n   26,\n   27,\n   28,\n   29],\n  [0,\n   1,\n   2,\n   3,\n   4,\n   5,\n   6,\n   7,\n   8,\n   9,\n   10,\n   11,\n   12,\n   13,\n   14,\n   15,\n   16,\n   17,\n   18,\n   19,\n   20,\n   21,\n   22,\n   23,\n   24,\n   25,\n   26,\n   27,\n   28,\n   29]]]"
     },
     "execution_count": 87,
     "metadata": {},
     "output_type": "execute_result"
    }
   ],
   "source": [
    "import random \n",
    "\n",
    "# Tabu search requires: \n",
    "# 1. Initial solution\n",
    "# 2. Neighborhood function\n",
    "# 3. Objective function\n",
    "# 4. Stopping condition\n",
    "# 5. Tabu list\n",
    "\n",
    "# Set random seed\n",
    "np.random.seed(44734763)\n",
    "random.seed(17263534)\n",
    "\n",
    "\n",
    "# Set availability\n",
    "\n",
    "total_participants = 30\n",
    "avail_at_t = [[[] for _ in range(34)] for _ in range(5)]\n",
    "for day in range(availabilities.shape[1]):\n",
    "    for time_slot in range(availabilities.shape[2]):\n",
    "        # print(day, time_slot)\n",
    "        # Get the availabilities for the current time slot and day\n",
    "        free_participants_indices_0_29 = np.where(availabilities[:, day, time_slot][0:30] == 0)[0]\n",
    "        \n",
    "        # if day == 1 and time_slot == 19:\n",
    "        #     print('day', day, 'time_slot', time_slot, 'free_participants_indices_0_29', free_participants_indices_0_29)\n",
    "        #     print(set(free_participants_indices_0_29.copy()))\n",
    "        #     print(\"====\")\n",
    "        \n",
    "        avail_at_t[day][time_slot] = list(free_participants_indices_0_29)\n",
    "        \n",
    "        # print(len(avail_at_t[1][19]))\n",
    "        \n",
    "        \n",
    "# print(\"Final\", avail_at_t[1][19])\n",
    "avail_at_t\n"
   ]
  },
  {
   "cell_type": "code",
   "execution_count": 88,
   "id": "7f53fa05",
   "metadata": {
    "ExecuteTime": {
     "end_time": "2024-04-08T06:27:55.320225Z",
     "start_time": "2024-04-08T06:27:55.304847Z"
    }
   },
   "outputs": [
    {
     "data": {
      "text/plain": "array([[list([0, 2, 3, 4, 5, 6, 8, 10, 11, 13, 14, 15, 16, 19, 23, 24, 26, 27, 28, 29]),\n        list([0, 1, 2, 4, 5, 6, 10, 11, 13, 14, 15, 16, 17, 18, 19, 23, 24, 26, 27, 29]),\n        list([0, 2, 3, 4, 7, 8, 9, 11, 12, 13, 15, 16, 17, 18, 19, 23, 26, 27, 28, 29]),\n        list([2, 4, 5, 6, 8, 9, 10, 12, 14, 15, 16, 17, 19, 20, 23, 24, 26, 27, 28, 29]),\n        list([5, 6, 10, 20, 23]),\n        list([0, 3, 4, 5, 6, 8, 10, 11, 12, 13, 15, 16, 17, 19, 20, 23, 24, 26, 27, 29]),\n        list([1, 2, 3, 4, 6, 8, 9, 12, 13, 14, 15, 17, 18, 20, 23, 25, 26, 27, 28, 29]),\n        list([0, 1, 2, 3, 4, 8, 9, 11, 12, 13, 14, 17, 18, 19, 20, 21, 24, 26, 27, 28]),\n        list([0, 1, 2, 3, 4, 6, 8, 9, 10, 11, 15, 18, 19, 20, 21, 24, 26, 27, 28, 29]),\n        list([0, 2, 4, 5, 6, 10, 11, 12, 14, 15, 17, 19, 20, 21, 23, 24, 25, 27, 28, 29]),\n        list([0, 1, 2, 4, 5, 6, 9, 10, 11, 12, 14, 15, 17, 18, 20, 23, 24, 25, 27, 29]),\n        list([0, 2, 4, 5, 6, 8, 10, 11, 12, 13, 15, 17, 18, 19, 20, 21, 23, 24, 25, 27]),\n        list([1, 2, 5, 6, 7, 9, 11, 12, 13, 14, 15, 17, 18, 19, 20, 22, 23, 25, 27, 28]),\n        list([6, 7, 20, 22, 27]),\n        list([5, 6, 7, 20, 21, 22, 23, 25, 27, 28]),\n        list([2, 3, 4, 6, 7, 11, 14, 15, 16, 17, 18, 19, 20, 21, 22, 23, 24, 25, 27, 29]),\n        list([0, 2, 3, 4, 8, 9, 11, 12, 13, 14, 15, 16, 17, 18, 19, 20, 21, 24, 27, 29]),\n        list([0, 2, 3, 7, 8, 9, 11, 13, 14, 15, 16, 17, 18, 19, 20, 21, 23, 24, 25, 27]),\n        list([0, 2, 3, 7, 8, 10, 12, 13, 15, 16, 17, 18, 19, 20, 22, 23, 24, 26, 27, 29]),\n        list([7, 20, 21, 27, 28]),\n        list([2, 3, 8, 9, 10, 12, 13, 14, 15, 16, 17, 18, 19, 21, 22, 24, 25, 26, 28, 29]),\n        list([0, 1, 2, 5, 7, 9, 10, 13, 14, 15, 16, 17, 20, 21, 22, 23, 25, 27, 28, 29]),\n        list([0, 1, 3, 5, 7, 8, 13, 14, 15, 16, 17, 18, 19, 21, 23, 25, 26, 27, 28, 29]),\n        list([1, 2, 3, 5, 8, 10, 13, 14, 15, 16, 18, 19, 21, 22, 24, 25, 26, 27, 28, 29]),\n        list([0, 1, 3, 4, 5, 6, 8, 9, 11, 15, 16, 17, 18, 21, 22, 24, 25, 26, 27, 29]),\n        list([0, 1, 3, 4, 5, 6, 10, 11, 14, 15, 16, 17, 18, 19, 22, 23, 24, 26, 28, 29]),\n        list([0, 1, 2, 5, 6, 7, 9, 10, 11, 13, 14, 17, 19, 20, 23, 24, 25, 26, 28, 29]),\n        list([0, 2, 3, 4, 5, 6, 10, 11, 12, 14, 15, 16, 17, 18, 19, 20, 24, 25, 27, 29]),\n        list([0, 3, 4, 5, 7, 8, 9, 10, 11, 13, 14, 19, 20, 21, 22, 23, 24, 25, 28, 29]),\n        list([0, 1, 3, 4, 6, 8, 11, 13, 14, 15, 16, 17, 18, 19, 21, 23, 25, 26, 27, 29]),\n        list([0, 2, 3, 4, 6, 8, 9, 11, 12, 14, 16, 18, 19, 20, 21, 22, 23, 26, 27, 28]),\n        list([0, 2, 3, 5, 7, 10, 12, 13, 14, 15, 16, 17, 19, 21, 22, 23, 24, 26, 27, 28]),\n        list([0, 1, 3, 4, 5, 6, 7, 9, 11, 14, 16, 17, 21, 22, 23, 24, 25, 26, 27, 28]),\n        list([0, 1, 2, 3, 4, 5, 6, 7, 9, 11, 12, 13, 16, 17, 18, 19, 21, 22, 24, 28])],\n       [list([0, 1, 2, 3, 5, 6, 7, 8, 10, 12, 13, 14, 16, 17, 18, 19, 21, 22, 23, 28]),\n        list([0, 1, 3, 4, 5, 8, 9, 10, 11, 12, 14, 15, 16, 17, 20, 21, 23, 25, 26, 27]),\n        list([0, 1, 2, 4, 5, 6, 7, 8, 11, 14, 15, 16, 17, 18, 19, 21, 22, 24, 25, 27]),\n        list([3, 4, 5, 6, 7, 8, 9, 12, 13, 15, 16, 17, 18, 19, 21, 23, 24, 25, 27, 28]),\n        list([6, 20, 23, 25, 27]),\n        list([0, 1, 4, 5, 6, 8, 10, 11, 14, 15, 16, 17, 18, 19, 20, 23, 25, 26, 27, 28]),\n        list([0, 1, 3, 4, 5, 6, 8, 9, 10, 12, 13, 15, 16, 18, 20, 24, 26, 27, 28, 29]),\n        list([0, 1, 3, 4, 7, 8, 9, 11, 12, 13, 14, 15, 18, 19, 20, 21, 24, 27, 28, 29]),\n        list([0, 1, 3, 4, 6, 7, 8, 10, 11, 13, 14, 15, 16, 18, 20, 21, 26, 27, 28, 29]),\n        list([0, 2, 3, 4, 5, 7, 9, 10, 11, 13, 14, 15, 16, 18, 21, 22, 24, 26, 27, 29]),\n        list([0, 1, 2, 3, 4, 5, 9, 10, 11, 12, 13, 14, 15, 16, 18, 19, 23, 24, 25, 29]),\n        list([1, 2, 3, 4, 5, 6, 8, 9, 10, 11, 12, 14, 16, 18, 19, 21, 23, 24, 25, 26]),\n        list([0, 3, 4, 5, 6, 7, 9, 10, 11, 13, 15, 16, 17, 20, 22, 24, 25, 26, 27, 29]),\n        list([6, 20, 21, 22, 28]),\n        list([5, 7, 10, 20, 21, 22, 23, 25, 27, 28]),\n        list([0, 1, 2, 3, 4, 5, 6, 7, 8, 9, 11, 14, 16, 17, 19, 21, 24, 25, 26, 29]),\n        list([0, 1, 2, 3, 4, 5, 9, 11, 12, 13, 14, 17, 18, 19, 20, 21, 24, 25, 26, 27]),\n        list([0, 1, 2, 3, 4, 5, 8, 11, 12, 13, 16, 17, 19, 20, 22, 24, 25, 27, 28, 29]),\n        list([1, 2, 4, 5, 7, 8, 10, 12, 13, 14, 16, 17, 18, 19, 22, 25, 26, 27, 28, 29]),\n        list([5, 6, 7, 10, 20, 21, 22, 25, 27, 28]),\n        list([2, 3, 4, 5, 6, 7, 9, 10, 11, 16, 18, 20, 21, 22, 24, 25, 26, 27, 28, 29]),\n        list([1, 2, 3, 5, 7, 8, 9, 10, 12, 13, 14, 15, 16, 20, 21, 23, 25, 26, 28, 29]),\n        list([1, 2, 3, 4, 5, 7, 8, 9, 11, 13, 14, 17, 18, 22, 23, 25, 26, 27, 28, 29]),\n        list([1, 2, 3, 6, 7, 8, 10, 11, 13, 14, 16, 17, 18, 21, 23, 25, 26, 27, 28, 29]),\n        list([0, 1, 3, 6, 7, 8, 9, 10, 12, 13, 14, 15, 16, 17, 20, 21, 23, 25, 27, 28]),\n        list([1, 2, 3, 4, 6, 7, 9, 10, 13, 14, 15, 16, 17, 18, 20, 23, 25, 26, 28, 29]),\n        list([0, 3, 5, 6, 9, 10, 11, 12, 13, 14, 15, 16, 17, 18, 20, 22, 23, 25, 26, 27]),\n        list([1, 2, 3, 5, 6, 7, 8, 9, 13, 14, 15, 16, 17, 20, 21, 22, 24, 25, 26, 27]),\n        list([2, 3, 4, 5, 6, 7, 8, 10, 12, 13, 15, 16, 17, 18, 19, 20, 21, 24, 25, 29]),\n        list([0, 1, 2, 3, 7, 8, 9, 10, 11, 12, 13, 15, 17, 22, 23, 24, 25, 27, 28, 29]),\n        list([0, 1, 2, 4, 8, 11, 12, 13, 14, 15, 18, 19, 21, 23, 24, 25, 26, 27, 28, 29]),\n        list([4, 5, 6, 7, 8, 9, 10, 11, 13, 15, 16, 17, 19, 21, 23, 25, 26, 27, 28, 29]),\n        list([0, 4, 6, 7, 8, 9, 10, 11, 12, 14, 15, 17, 18, 21, 23, 24, 25, 27, 28, 29]),\n        list([0, 1, 2, 4, 5, 6, 8, 9, 10, 11, 12, 13, 15, 18, 21, 22, 23, 26, 28, 29])],\n       [list([1, 2, 4, 5, 6, 7, 9, 10, 14, 15, 16, 17, 18, 19, 20, 21, 22, 26, 28, 29]),\n        list([0, 1, 2, 3, 5, 6, 8, 9, 10, 11, 13, 15, 16, 18, 19, 20, 21, 24, 26, 29]),\n        list([1, 2, 3, 4, 5, 6, 7, 8, 9, 10, 15, 16, 18, 20, 21, 22, 23, 24, 26, 29]),\n        list([0, 1, 2, 4, 5, 6, 8, 9, 10, 11, 12, 13, 14, 16, 18, 20, 21, 22, 23, 29]),\n        list([5, 20, 22, 27, 28]),\n        list([1, 2, 3, 4, 6, 8, 9, 11, 12, 13, 14, 15, 17, 18, 19, 20, 22, 23, 27, 29]),\n        list([0, 1, 2, 3, 5, 8, 9, 10, 13, 15, 17, 18, 19, 20, 22, 23, 24, 25, 26, 27]),\n        list([0, 1, 2, 3, 4, 8, 9, 11, 12, 13, 15, 17, 19, 20, 21, 22, 24, 26, 27, 28]),\n        list([0, 1, 3, 4, 6, 8, 10, 11, 12, 13, 15, 18, 19, 20, 21, 24, 26, 27, 28, 29]),\n        list([0, 1, 2, 3, 4, 5, 6, 7, 10, 11, 13, 15, 17, 20, 21, 22, 24, 25, 26, 28]),\n        list([0, 1, 2, 3, 4, 5, 6, 8, 9, 10, 11, 15, 18, 20, 23, 24, 25, 26, 27, 29]),\n        list([0, 2, 3, 4, 5, 6, 8, 9, 10, 11, 12, 13, 17, 19, 21, 23, 24, 25, 26, 27]),\n        list([0, 2, 3, 7, 8, 9, 10, 12, 15, 16, 17, 19, 20, 22, 23, 24, 26, 27, 28, 29]),\n        list([6, 10, 21, 22, 27]),\n        list([5, 7, 10, 20, 21, 22, 23, 25, 27, 28]),\n        list([0, 2, 4, 5, 6, 9, 10, 12, 14, 15, 16, 17, 18, 19, 21, 22, 24, 27, 28, 29]),\n        list([0, 2, 4, 5, 8, 9, 11, 12, 14, 15, 16, 18, 19, 20, 21, 24, 25, 26, 27, 29]),\n        list([2, 3, 4, 5, 7, 8, 11, 12, 14, 15, 16, 17, 18, 20, 21, 24, 25, 26, 27, 28]),\n        list([0, 2, 3, 5, 6, 7, 9, 10, 11, 12, 15, 16, 18, 19, 20, 21, 25, 27, 28, 29]),\n        list([5, 6, 7, 10, 20, 21, 22, 25, 27, 28]),\n        list([0, 2, 3, 4, 5, 6, 8, 11, 12, 14, 18, 20, 21, 22, 24, 25, 26, 27, 28, 29]),\n        list([0, 2, 3, 4, 6, 9, 10, 12, 14, 15, 16, 17, 18, 20, 21, 23, 25, 26, 27, 28]),\n        list([1, 3, 4, 5, 7, 8, 9, 11, 12, 14, 15, 16, 17, 19, 22, 23, 25, 26, 27, 28]),\n        list([1, 3, 4, 5, 6, 9, 10, 11, 12, 14, 15, 16, 17, 18, 19, 20, 21, 22, 23, 25]),\n        list([0, 2, 3, 4, 6, 9, 10, 11, 12, 14, 15, 16, 18, 20, 21, 22, 23, 25, 26, 29]),\n        list([0, 4, 6, 7, 8, 9, 10, 11, 12, 14, 15, 16, 17, 18, 19, 20, 21, 22, 25, 26]),\n        list([0, 4, 5, 7, 8, 9, 10, 11, 12, 16, 17, 18, 19, 22, 23, 25, 26, 27, 28, 29]),\n        list([2, 3, 4, 5, 6, 8, 9, 12, 14, 16, 17, 18, 20, 22, 23, 25, 26, 27, 28, 29]),\n        list([0, 1, 2, 4, 6, 9, 12, 13, 14, 15, 17, 19, 20, 21, 22, 24, 25, 26, 28, 29]),\n        list([0, 1, 2, 4, 5, 6, 8, 9, 11, 15, 16, 17, 21, 22, 24, 25, 26, 27, 28, 29]),\n        list([0, 1, 3, 4, 5, 6, 7, 11, 13, 14, 16, 17, 18, 21, 22, 23, 24, 25, 26, 27]),\n        list([0, 1, 3, 4, 5, 6, 8, 10, 11, 13, 15, 16, 17, 19, 21, 22, 25, 27, 28, 29]),\n        list([0, 1, 2, 3, 4, 5, 6, 9, 10, 11, 12, 13, 15, 16, 18, 19, 22, 24, 25, 29]),\n        list([0, 1, 2, 3, 4, 5, 6, 7, 8, 10, 12, 13, 14, 15, 19, 20, 23, 24, 25, 29])],\n       [list([1, 3, 4, 5, 6, 10, 11, 12, 14, 15, 16, 18, 20, 22, 23, 24, 25, 26, 27, 28]),\n        list([0, 2, 3, 5, 6, 9, 10, 11, 12, 13, 14, 15, 16, 18, 19, 20, 23, 24, 25, 26]),\n        list([0, 3, 4, 5, 6, 7, 10, 12, 13, 14, 15, 16, 18, 19, 20, 22, 24, 25, 26, 28]),\n        list([3, 4, 7, 9, 10, 11, 12, 14, 15, 16, 18, 20, 21, 22, 23, 24, 25, 26, 27, 28]),\n        list([5, 7, 10, 20, 27]),\n        list([0, 1, 2, 3, 4, 5, 6, 7, 9, 13, 14, 15, 16, 17, 18, 20, 22, 25, 27, 28]),\n        list([1, 2, 3, 5, 6, 7, 10, 11, 12, 14, 15, 17, 19, 20, 21, 22, 23, 24, 26, 28]),\n        list([0, 1, 2, 3, 4, 9, 11, 12, 13, 15, 16, 19, 20, 21, 22, 24, 26, 27, 28, 29]),\n        list([0, 2, 3, 4, 6, 7, 10, 11, 12, 13, 14, 15, 17, 20, 21, 22, 24, 26, 28, 29]),\n        list([0, 1, 2, 4, 5, 6, 10, 13, 14, 15, 17, 19, 20, 22, 23, 24, 25, 27, 28, 29]),\n        list([0, 1, 2, 5, 6, 9, 10, 11, 12, 13, 14, 15, 16, 17, 20, 23, 24, 25, 26, 27]),\n        list([0, 1, 2, 5, 6, 9, 10, 11, 13, 15, 16, 17, 19, 21, 23, 24, 25, 26, 27, 29]),\n        list([0, 4, 5, 6, 7, 8, 9, 11, 13, 15, 16, 17, 20, 21, 24, 25, 26, 27, 28, 29]),\n        list([6, 20, 21, 22, 28]),\n        list([5, 6, 7, 20, 21, 22, 23, 25, 27, 28]),\n        list([0, 1, 2, 3, 4, 5, 6, 9, 11, 14, 16, 19, 20, 21, 22, 23, 25, 27, 28, 29]),\n        list([1, 2, 3, 4, 5, 8, 9, 11, 13, 14, 16, 17, 19, 20, 23, 24, 25, 26, 27, 29]),\n        list([1, 3, 4, 7, 9, 11, 12, 13, 14, 16, 17, 20, 21, 22, 23, 24, 25, 26, 27, 29]),\n        list([1, 2, 3, 4, 5, 7, 8, 9, 10, 14, 16, 17, 19, 20, 22, 25, 26, 27, 28, 29]),\n        list([5, 6, 7, 10, 20, 21, 22, 23, 25, 27]),\n        list([1, 2, 3, 4, 6, 8, 10, 11, 13, 14, 16, 17, 19, 20, 21, 22, 23, 24, 25, 27]),\n        list([2, 4, 5, 6, 9, 10, 11, 13, 15, 16, 17, 18, 20, 21, 22, 23, 25, 26, 27, 29]),\n        list([2, 3, 4, 5, 7, 8, 11, 12, 14, 15, 16, 17, 21, 22, 23, 24, 25, 26, 27, 29]),\n        list([1, 4, 5, 7, 9, 11, 12, 13, 14, 15, 16, 17, 18, 20, 21, 22, 23, 26, 27, 28]),\n        list([0, 1, 2, 4, 5, 6, 7, 9, 10, 13, 14, 17, 18, 22, 23, 24, 25, 27, 28, 29]),\n        list([0, 1, 4, 5, 6, 7, 9, 10, 11, 13, 14, 15, 17, 18, 20, 21, 22, 23, 26, 29]),\n        list([0, 1, 2, 3, 4, 5, 6, 10, 11, 12, 13, 15, 16, 18, 20, 22, 23, 24, 26, 29]),\n        list([2, 4, 5, 6, 8, 12, 13, 14, 15, 16, 18, 19, 21, 23, 24, 25, 26, 27, 28, 29]),\n        list([3, 4, 6, 7, 8, 9, 10, 12, 13, 14, 15, 16, 19, 20, 22, 23, 24, 26, 27, 29]),\n        list([1, 2, 3, 4, 5, 6, 7, 8, 9, 11, 13, 14, 16, 20, 22, 23, 24, 25, 28, 29]),\n        list([1, 2, 3, 4, 5, 6, 7, 8, 9, 11, 12, 13, 14, 16, 20, 21, 22, 23, 25, 29]),\n        list([1, 2, 3, 5, 7, 8, 10, 12, 14, 16, 18, 19, 21, 22, 23, 24, 25, 27, 28, 29]),\n        list([0, 2, 4, 5, 8, 9, 11, 12, 14, 15, 16, 17, 18, 19, 21, 22, 25, 26, 28, 29]),\n        list([0, 1, 2, 4, 6, 7, 9, 10, 11, 13, 14, 15, 16, 17, 19, 20, 23, 24, 25, 28])],\n       [list([0, 1, 3, 4, 6, 7, 9, 10, 11, 12, 13, 15, 16, 19, 20, 21, 25, 26, 27, 28]),\n        list([0, 1, 2, 5, 6, 8, 9, 10, 11, 12, 14, 15, 17, 20, 21, 24, 25, 26, 27, 29]),\n        list([1, 2, 3, 5, 8, 9, 10, 11, 13, 15, 17, 18, 19, 21, 22, 23, 24, 25, 26, 28]),\n        list([0, 1, 3, 5, 6, 7, 8, 9, 11, 12, 13, 15, 19, 21, 22, 24, 25, 27, 28, 29]),\n        list([6, 7, 20, 22, 23]),\n        list([1, 4, 5, 6, 7, 8, 9, 11, 12, 13, 15, 18, 19, 20, 22, 23, 24, 25, 26, 28]),\n        list([0, 4, 5, 6, 8, 9, 10, 12, 13, 15, 16, 18, 19, 20, 21, 22, 23, 24, 26, 28]),\n        list([0, 1, 3, 4, 7, 8, 9, 11, 12, 13, 15, 16, 18, 19, 20, 21, 22, 27, 28, 29]),\n        list([0, 3, 4, 6, 7, 8, 9, 10, 11, 15, 16, 18, 19, 21, 22, 24, 26, 27, 28, 29]),\n        list([1, 2, 3, 4, 5, 6, 7, 10, 13, 15, 16, 18, 19, 21, 22, 23, 24, 25, 27, 29]),\n        list([0, 1, 2, 3, 4, 6, 8, 10, 11, 12, 13, 15, 16, 18, 19, 20, 23, 24, 25, 29]),\n        list([0, 1, 2, 3, 4, 5, 6, 8, 10, 11, 12, 15, 16, 18, 20, 21, 23, 24, 25, 29]),\n        list([0, 1, 2, 3, 4, 5, 6, 8, 10, 11, 12, 14, 15, 20, 22, 23, 24, 25, 27, 29]),\n        list([7, 10, 20, 21, 22]),\n        list([5, 6, 7, 10, 20, 21, 22, 23, 25, 27]),\n        list([1, 2, 3, 4, 6, 7, 8, 9, 12, 13, 14, 17, 18, 19, 20, 21, 22, 24, 25, 27]),\n        list([0, 2, 3, 4, 8, 9, 11, 12, 13, 14, 15, 16, 18, 19, 20, 21, 23, 24, 25, 29]),\n        list([0, 1, 2, 4, 8, 9, 11, 12, 14, 15, 17, 18, 19, 20, 22, 23, 24, 25, 27, 29]),\n        list([0, 1, 3, 7, 8, 9, 10, 12, 13, 14, 15, 16, 17, 19, 21, 22, 23, 25, 26, 29]),\n        list([6, 7, 20, 22, 27]),\n        list([0, 1, 3, 6, 7, 9, 10, 12, 14, 15, 16, 17, 18, 19, 21, 22, 23, 24, 26, 27]),\n        list([1, 5, 6, 7, 8, 9, 10, 13, 14, 15, 19, 20, 21, 22, 23, 24, 25, 26, 27, 29]),\n        list([0, 1, 2, 3, 7, 9, 13, 14, 15, 16, 17, 18, 19, 21, 22, 23, 25, 26, 27, 28]),\n        list([0, 1, 2, 3, 5, 6, 8, 9, 13, 14, 15, 16, 17, 19, 21, 22, 24, 26, 27, 28]),\n        list([1, 2, 3, 5, 6, 7, 8, 9, 10, 11, 13, 15, 16, 17, 18, 19, 24, 25, 26, 29]),\n        list([1, 4, 6, 7, 9, 10, 11, 13, 14, 15, 16, 17, 18, 20, 21, 22, 23, 24, 25, 28]),\n        list([0, 1, 2, 4, 5, 6, 8, 10, 11, 13, 14, 15, 17, 18, 19, 21, 22, 23, 24, 25]),\n        list([0, 1, 2, 4, 5, 7, 10, 12, 14, 15, 16, 18, 19, 20, 22, 23, 24, 25, 27, 29]),\n        list([0, 2, 4, 5, 6, 7, 10, 12, 14, 17, 18, 19, 21, 22, 23, 24, 26, 27, 28, 29]),\n        list([0, 2, 3, 5, 6, 7, 8, 12, 13, 14, 16, 17, 18, 19, 21, 23, 24, 26, 28, 29]),\n        list([2, 5, 7, 8, 9, 10, 11, 12, 13, 14, 17, 18, 19, 20, 21, 24, 25, 27, 28, 29]),\n        list([0, 1, 4, 5, 6, 8, 9, 10, 12, 15, 17, 18, 19, 21, 22, 25, 26, 27, 28, 29]),\n        list([0, 2, 4, 5, 6, 7, 8, 9, 10, 12, 15, 17, 21, 22, 23, 24, 26, 27, 28, 29]),\n        list([0, 1, 2, 4, 5, 6, 9, 10, 11, 12, 13, 17, 20, 21, 22, 23, 24, 25, 26, 27])]],\n      dtype=object)"
     },
     "execution_count": 88,
     "metadata": {},
     "output_type": "execute_result"
    }
   ],
   "source": [
    "# Initial solution\n",
    "# Randomly select 5 * maxMeetings['maxMeetings'] participants for each timeslot\n",
    "participants_per_meeting = 5\n",
    "initial_solution = np.zeros((5, 34), dtype=set)\n",
    "for day in range(5):\n",
    "    for time_slot in range(34):\n",
    "        avail_list =  avail_at_t[day][time_slot]\n",
    "        num_participants = maxMeetings.iloc[34 * day + time_slot][\"Max Meetings\"] * participants_per_meeting\n",
    "        initial_solution[day][time_slot] = sorted(random.sample(avail_list, num_participants))\n",
    "        \n",
    "initial_solution"
   ]
  },
  {
   "cell_type": "code",
   "execution_count": 89,
   "id": "348e3776",
   "metadata": {
    "ExecuteTime": {
     "end_time": "2024-04-08T06:27:55.405354Z",
     "start_time": "2024-04-08T06:27:55.321299Z"
    }
   },
   "outputs": [
    {
     "data": {
      "text/plain": "9595"
     },
     "execution_count": 89,
     "metadata": {},
     "output_type": "execute_result"
    }
   ],
   "source": [
    "# Neighborhood function\n",
    "def get_neighborhood(solution):\n",
    "    neighborhood = []\n",
    "    for day in range(5):\n",
    "        for time_slot in range(34):\n",
    "            for i in range(len(solution[day][time_slot])):\n",
    "                # For each element, try +1, +4, -1, -4\n",
    "                # Make sure there are no repeats\n",
    "                # Validate by making sure all numbers in the new entry are in the avail_at_t list\n",
    "                for delta in [1, 4, -1, -4]:\n",
    "                    if 0 <= i + delta < len(solution[day][time_slot]):\n",
    "                        new_participants = solution[day][time_slot].copy()\n",
    "                        new_participants[i] = (new_participants[i] + delta + total_participants) % total_participants\n",
    "                        if set(new_participants).issubset(avail_at_t[day][time_slot]):\n",
    "                            neighbor = np.copy(solution)\n",
    "                            neighbor[day][time_slot] = new_participants\n",
    "                            neighborhood.append(neighbor)\n",
    "\n",
    "    return neighborhood\n",
    "\n",
    "len(get_neighborhood(initial_solution))"
   ]
  },
  {
   "cell_type": "code",
   "outputs": [],
   "source": [
    "def evaluate_objective(solution):\n",
    "    # Calculate the number of unique participants in each timeslot\n",
    "    participant_meetings = [0] * num_participants\n",
    "    for day in range(5):\n",
    "        for time_slot in range(34):\n",
    "            for participant in solution[day][time_slot]:\n",
    "                participant_meetings[participant] += 1\n",
    "    \n",
    "    # find MSE of participantMeetings\n",
    "    expected_num_meetings = sum(participant_meetings) / num_participants\n",
    "\n",
    "    if expected_num_meetings == 0:\n",
    "        return 0\n",
    "\n",
    "    # Calculate the penalty score based on the difference between the expected number of meetings and the actual number of meetings\n",
    "    penalty = 0.0\n",
    "    for num_meetings in participant_meetings:\n",
    "        delta = expected_num_meetings - num_meetings\n",
    "        penalty += abs(delta * delta)\n",
    "    \n",
    "    return penalty\n",
    "\n",
    "    \n",
    "    \n",
    "    \n",
    "    return num_participants"
   ],
   "metadata": {
    "collapsed": false,
    "ExecuteTime": {
     "end_time": "2024-04-08T06:27:55.411831Z",
     "start_time": "2024-04-08T06:27:55.407524Z"
    }
   },
   "id": "63970919c177c5c3",
   "execution_count": 90
  },
  {
   "cell_type": "code",
   "outputs": [],
   "source": [
    "# Stopping condition\n",
    "\n",
    "MAX_ITER = 100000\n",
    "ITER_NO_CHANGE = 2000\n",
    "def should_stop(num_iterations: int, equity_history: list[int]):\n",
    "    if num_iterations >= MAX_ITER:\n",
    "        return True\n",
    "    if len(equity_history) >= ITER_NO_CHANGE:\n",
    "        return len(set(equity_history[-ITER_NO_CHANGE:])) == 1\n",
    "    return False\n",
    "    "
   ],
   "metadata": {
    "collapsed": false,
    "ExecuteTime": {
     "end_time": "2024-04-08T06:27:55.416402Z",
     "start_time": "2024-04-08T06:27:55.413039Z"
    }
   },
   "id": "5efe8d146ac12529",
   "execution_count": 91
  },
  {
   "cell_type": "code",
   "outputs": [
    {
     "name": "stdout",
     "output_type": "stream",
     "text": [
      "Iteration: 0, Best Objective: 1762.6666666666667, Best Neighbor Objective: 1762.6666666666667\n",
      "Iteration: 1, Best Objective: 1716.6666666666667, Best Neighbor Objective: 1716.6666666666667\n",
      "Iteration: 2, Best Objective: 1672.666666666667, Best Neighbor Objective: 1672.666666666667\n",
      "Iteration: 3, Best Objective: 1630.666666666667, Best Neighbor Objective: 1630.666666666667\n",
      "Iteration: 4, Best Objective: 1590.6666666666667, Best Neighbor Objective: 1590.6666666666667\n",
      "Iteration: 5, Best Objective: 1552.6666666666665, Best Neighbor Objective: 1552.6666666666665\n",
      "Iteration: 6, Best Objective: 1514.6666666666665, Best Neighbor Objective: 1514.6666666666665\n",
      "Iteration: 7, Best Objective: 1478.6666666666667, Best Neighbor Objective: 1478.6666666666667\n",
      "Iteration: 8, Best Objective: 1444.6666666666667, Best Neighbor Objective: 1444.6666666666667\n",
      "Iteration: 9, Best Objective: 1410.6666666666667, Best Neighbor Objective: 1410.6666666666667\n",
      "Iteration: 10, Best Objective: 1376.6666666666667, Best Neighbor Objective: 1376.6666666666667\n",
      "Iteration: 11, Best Objective: 1342.6666666666665, Best Neighbor Objective: 1342.6666666666665\n",
      "Iteration: 12, Best Objective: 1308.6666666666665, Best Neighbor Objective: 1308.6666666666665\n",
      "Iteration: 13, Best Objective: 1278.6666666666665, Best Neighbor Objective: 1278.6666666666665\n",
      "Iteration: 14, Best Objective: 1248.6666666666665, Best Neighbor Objective: 1248.6666666666665\n",
      "Iteration: 15, Best Objective: 1218.6666666666665, Best Neighbor Objective: 1218.6666666666665\n",
      "Iteration: 16, Best Objective: 1188.6666666666665, Best Neighbor Objective: 1188.6666666666665\n",
      "Iteration: 17, Best Objective: 1158.6666666666665, Best Neighbor Objective: 1158.6666666666665\n",
      "Iteration: 18, Best Objective: 1128.6666666666667, Best Neighbor Objective: 1128.6666666666667\n",
      "Iteration: 19, Best Objective: 1100.6666666666667, Best Neighbor Objective: 1100.6666666666667\n",
      "Iteration: 20, Best Objective: 1074.6666666666665, Best Neighbor Objective: 1074.6666666666665\n",
      "Iteration: 21, Best Objective: 1048.6666666666663, Best Neighbor Objective: 1048.6666666666663\n",
      "Iteration: 22, Best Objective: 1022.6666666666663, Best Neighbor Objective: 1022.6666666666663\n",
      "Iteration: 23, Best Objective: 996.6666666666663, Best Neighbor Objective: 996.6666666666663\n",
      "Iteration: 24, Best Objective: 970.6666666666663, Best Neighbor Objective: 970.6666666666663\n",
      "Iteration: 25, Best Objective: 944.6666666666665, Best Neighbor Objective: 944.6666666666665\n",
      "Iteration: 26, Best Objective: 920.6666666666663, Best Neighbor Objective: 920.6666666666663\n",
      "Iteration: 27, Best Objective: 896.6666666666663, Best Neighbor Objective: 896.6666666666663\n",
      "Iteration: 28, Best Objective: 874.6666666666663, Best Neighbor Objective: 874.6666666666663\n",
      "Iteration: 29, Best Objective: 852.6666666666664, Best Neighbor Objective: 852.6666666666664\n",
      "Iteration: 30, Best Objective: 830.6666666666665, Best Neighbor Objective: 830.6666666666665\n",
      "Iteration: 31, Best Objective: 808.6666666666665, Best Neighbor Objective: 808.6666666666665\n",
      "Iteration: 32, Best Objective: 786.6666666666665, Best Neighbor Objective: 786.6666666666665\n",
      "Iteration: 33, Best Objective: 764.6666666666665, Best Neighbor Objective: 764.6666666666665\n",
      "Iteration: 34, Best Objective: 742.6666666666665, Best Neighbor Objective: 742.6666666666665\n",
      "Iteration: 35, Best Objective: 722.6666666666665, Best Neighbor Objective: 722.6666666666665\n",
      "Iteration: 36, Best Objective: 702.6666666666666, Best Neighbor Objective: 702.6666666666666\n",
      "Iteration: 37, Best Objective: 682.6666666666667, Best Neighbor Objective: 682.6666666666667\n",
      "Iteration: 38, Best Objective: 664.6666666666667, Best Neighbor Objective: 664.6666666666667\n",
      "Iteration: 39, Best Objective: 646.6666666666667, Best Neighbor Objective: 646.6666666666667\n",
      "Iteration: 40, Best Objective: 628.6666666666666, Best Neighbor Objective: 628.6666666666666\n",
      "Iteration: 41, Best Objective: 610.6666666666666, Best Neighbor Objective: 610.6666666666666\n",
      "Iteration: 42, Best Objective: 592.6666666666666, Best Neighbor Objective: 592.6666666666666\n",
      "Iteration: 43, Best Objective: 574.6666666666666, Best Neighbor Objective: 574.6666666666666\n",
      "Iteration: 44, Best Objective: 556.6666666666666, Best Neighbor Objective: 556.6666666666666\n",
      "Iteration: 45, Best Objective: 540.6666666666666, Best Neighbor Objective: 540.6666666666666\n",
      "Iteration: 46, Best Objective: 524.6666666666666, Best Neighbor Objective: 524.6666666666666\n",
      "Iteration: 47, Best Objective: 508.6666666666666, Best Neighbor Objective: 508.6666666666666\n",
      "Iteration: 48, Best Objective: 494.6666666666665, Best Neighbor Objective: 494.6666666666665\n",
      "Iteration: 49, Best Objective: 480.66666666666646, Best Neighbor Objective: 480.66666666666646\n",
      "Iteration: 50, Best Objective: 466.66666666666646, Best Neighbor Objective: 466.66666666666646\n",
      "Iteration: 51, Best Objective: 452.66666666666646, Best Neighbor Objective: 452.66666666666646\n",
      "Iteration: 52, Best Objective: 438.6666666666665, Best Neighbor Objective: 438.6666666666665\n",
      "Iteration: 53, Best Objective: 424.6666666666666, Best Neighbor Objective: 424.6666666666666\n",
      "Iteration: 54, Best Objective: 410.6666666666666, Best Neighbor Objective: 410.6666666666666\n",
      "Iteration: 55, Best Objective: 396.6666666666666, Best Neighbor Objective: 396.6666666666666\n",
      "Iteration: 56, Best Objective: 382.66666666666663, Best Neighbor Objective: 382.66666666666663\n",
      "Iteration: 57, Best Objective: 368.6666666666667, Best Neighbor Objective: 368.6666666666667\n",
      "Iteration: 58, Best Objective: 356.6666666666667, Best Neighbor Objective: 356.6666666666667\n",
      "Iteration: 59, Best Objective: 344.6666666666667, Best Neighbor Objective: 344.6666666666667\n",
      "Iteration: 60, Best Objective: 332.6666666666667, Best Neighbor Objective: 332.6666666666667\n",
      "Iteration: 61, Best Objective: 322.66666666666663, Best Neighbor Objective: 322.66666666666663\n",
      "Iteration: 62, Best Objective: 312.6666666666666, Best Neighbor Objective: 312.6666666666666\n"
     ]
    },
    {
     "ename": "KeyboardInterrupt",
     "evalue": "",
     "output_type": "error",
     "traceback": [
      "\u001B[0;31m---------------------------------------------------------------------------\u001B[0m",
      "\u001B[0;31mKeyboardInterrupt\u001B[0m                         Traceback (most recent call last)",
      "Cell \u001B[0;32mIn[96], line 19\u001B[0m\n\u001B[1;32m     17\u001B[0m best_neighbor_objective \u001B[38;5;241m=\u001B[39m \u001B[38;5;28mfloat\u001B[39m(\u001B[38;5;124m'\u001B[39m\u001B[38;5;124minf\u001B[39m\u001B[38;5;124m'\u001B[39m)\n\u001B[1;32m     18\u001B[0m \u001B[38;5;28;01mfor\u001B[39;00m neighbor \u001B[38;5;129;01min\u001B[39;00m neighborhood:\n\u001B[0;32m---> 19\u001B[0m     neighbor_objective \u001B[38;5;241m=\u001B[39m \u001B[43mevaluate_objective\u001B[49m\u001B[43m(\u001B[49m\u001B[43mneighbor\u001B[49m\u001B[43m)\u001B[49m\n\u001B[1;32m     20\u001B[0m     \u001B[38;5;28;01mif\u001B[39;00m neighbor_objective \u001B[38;5;241m<\u001B[39m best_neighbor_objective \u001B[38;5;129;01mand\u001B[39;00m \u001B[38;5;28mstr\u001B[39m(neighbor) \u001B[38;5;129;01mnot\u001B[39;00m \u001B[38;5;129;01min\u001B[39;00m tabu_list:\n\u001B[1;32m     21\u001B[0m         best_neighbor \u001B[38;5;241m=\u001B[39m neighbor\n",
      "Cell \u001B[0;32mIn[90], line 7\u001B[0m, in \u001B[0;36mevaluate_objective\u001B[0;34m(solution)\u001B[0m\n\u001B[1;32m      5\u001B[0m     \u001B[38;5;28;01mfor\u001B[39;00m time_slot \u001B[38;5;129;01min\u001B[39;00m \u001B[38;5;28mrange\u001B[39m(\u001B[38;5;241m34\u001B[39m):\n\u001B[1;32m      6\u001B[0m         \u001B[38;5;28;01mfor\u001B[39;00m participant \u001B[38;5;129;01min\u001B[39;00m solution[day][time_slot]:\n\u001B[0;32m----> 7\u001B[0m             participant_meetings[participant] \u001B[38;5;241m+\u001B[39m\u001B[38;5;241m=\u001B[39m \u001B[38;5;241m1\u001B[39m\n\u001B[1;32m      9\u001B[0m \u001B[38;5;66;03m# find MSE of participantMeetings\u001B[39;00m\n\u001B[1;32m     10\u001B[0m expected_num_meetings \u001B[38;5;241m=\u001B[39m \u001B[38;5;28msum\u001B[39m(participant_meetings) \u001B[38;5;241m/\u001B[39m num_participants\n",
      "\u001B[0;31mKeyboardInterrupt\u001B[0m: "
     ]
    }
   ],
   "source": [
    "# Tabu List\n",
    "tabu_list = []\n",
    "tabu_list_max_size = 10000\n",
    "\n",
    "# Tabu search\n",
    "num_participants = 30\n",
    "solution = initial_solution.copy()\n",
    "\n",
    "best_solution = solution\n",
    "best_objective = evaluate_objective(solution)\n",
    "equity_history = []\n",
    "\n",
    "num_iterations = 0\n",
    "while not should_stop(num_iterations, equity_history):\n",
    "    neighborhood = get_neighborhood(solution)\n",
    "    best_neighbor = None\n",
    "    best_neighbor_objective = float('inf')\n",
    "    for neighbor in neighborhood:\n",
    "        neighbor_objective = evaluate_objective(neighbor)\n",
    "        if neighbor_objective < best_neighbor_objective and str(neighbor) not in tabu_list:\n",
    "            best_neighbor = neighbor\n",
    "            best_neighbor_objective = neighbor_objective\n",
    "\n",
    "    if best_neighbor is None:\n",
    "        break\n",
    "\n",
    "    solution = best_neighbor\n",
    "    equity_history.append(best_neighbor_objective)\n",
    "    if best_neighbor_objective < best_objective:\n",
    "        best_solution = best_neighbor\n",
    "        best_objective = best_neighbor_objective\n",
    "    \n",
    "    # if num_iterations % 1000 == 0:\n",
    "    print(f\"Iteration: {num_iterations}, Best Objective: {best_objective}, Best Neighbor Objective: {best_neighbor_objective}\")\n",
    "\n",
    "\n",
    "    tabu_list.append(str(best_neighbor))\n",
    "    if len(tabu_list) > tabu_list_max_size:\n",
    "        tabu_list.pop(0)\n",
    "\n",
    "    num_iterations += 1\n"
   ],
   "metadata": {
    "collapsed": false,
    "ExecuteTime": {
     "end_time": "2024-04-08T06:41:35.649451Z",
     "start_time": "2024-04-08T06:39:03.642875Z"
    }
   },
   "id": "b123747b3f76f5b9",
   "execution_count": 96
  },
  {
   "cell_type": "code",
   "outputs": [],
   "source": [],
   "metadata": {
    "collapsed": false,
    "ExecuteTime": {
     "end_time": "2024-04-08T06:27:57.994535Z",
     "start_time": "2024-04-08T06:27:57.994441Z"
    }
   },
   "id": "75514ea126729482"
  }
 ],
 "metadata": {
  "kernelspec": {
   "display_name": "Python 3",
   "language": "python",
   "name": "python3"
  },
  "language_info": {
   "codemirror_mode": {
    "name": "ipython",
    "version": 3
   },
   "file_extension": ".py",
   "mimetype": "text/x-python",
   "name": "python",
   "nbconvert_exporter": "python",
   "pygments_lexer": "ipython3",
   "version": "3.10.12"
  }
 },
 "nbformat": 4,
 "nbformat_minor": 5
}
